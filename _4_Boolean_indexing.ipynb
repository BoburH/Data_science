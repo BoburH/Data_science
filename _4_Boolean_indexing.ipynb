{
  "nbformat": 4,
  "nbformat_minor": 0,
  "metadata": {
    "colab": {
      "provenance": [],
      "authorship_tag": "ABX9TyPhyCPWaWrLSy14iHzXop8m",
      "include_colab_link": true
    },
    "kernelspec": {
      "name": "python3",
      "display_name": "Python 3"
    },
    "language_info": {
      "name": "python"
    }
  },
  "cells": [
    {
      "cell_type": "markdown",
      "metadata": {
        "id": "view-in-github",
        "colab_type": "text"
      },
      "source": [
        "<a href=\"https://colab.research.google.com/github/BoburH/Data_science/blob/main/_4_Boolean_indexing.ipynb\" target=\"_parent\"><img src=\"https://colab.research.google.com/assets/colab-badge.svg\" alt=\"Open In Colab\"/></a>"
      ]
    },
    {
      "cell_type": "markdown",
      "source": [
        "# Boolean indekslash"
      ],
      "metadata": {
        "id": "ygrIcy2zVQDo"
      }
    },
    {
      "cell_type": "code",
      "execution_count": 1,
      "metadata": {
        "id": "IdL5ez6QIfWS"
      },
      "outputs": [],
      "source": [
        "import numpy as np"
      ]
    },
    {
      "cell_type": "code",
      "source": [
        "# Ismlar"
      ],
      "metadata": {
        "id": "5bsW05YpVS7d"
      },
      "execution_count": 2,
      "outputs": []
    },
    {
      "cell_type": "code",
      "source": [
        "names = np.array(['Hasan', 'Husan', 'Mirzabek', 'Elyor', 'Hasan', 'Javhoir', 'Elyor'])\n",
        "names"
      ],
      "metadata": {
        "colab": {
          "base_uri": "https://localhost:8080/"
        },
        "id": "bxJ2L8iGVg_A",
        "outputId": "945ad8db-2e98-46c7-ee2f-ee2ca1694a40"
      },
      "execution_count": 3,
      "outputs": [
        {
          "output_type": "execute_result",
          "data": {
            "text/plain": [
              "array(['Hasan', 'Husan', 'Mirzabek', 'Elyor', 'Hasan', 'Javhoir', 'Elyor'],\n",
              "      dtype='<U8')"
            ]
          },
          "metadata": {},
          "execution_count": 3
        }
      ]
    },
    {
      "cell_type": "code",
      "source": [
        "# data\n",
        "data = np.random.rand(7,4)\n",
        "data"
      ],
      "metadata": {
        "colab": {
          "base_uri": "https://localhost:8080/"
        },
        "id": "x7LYpSQPVvXP",
        "outputId": "6c6ca882-67cf-43e3-823d-de10e4a43377"
      },
      "execution_count": 4,
      "outputs": [
        {
          "output_type": "execute_result",
          "data": {
            "text/plain": [
              "array([[0.38612799, 0.84889422, 0.81369572, 0.55660211],\n",
              "       [0.38579289, 0.22490212, 0.88937932, 0.5481899 ],\n",
              "       [0.45291594, 0.37626239, 0.12427894, 0.74583466],\n",
              "       [0.04148198, 0.20553509, 0.74844752, 0.05519567],\n",
              "       [0.63498842, 0.61404423, 0.86021701, 0.7655817 ],\n",
              "       [0.21548846, 0.14514722, 0.17478762, 0.20861807],\n",
              "       [0.00649586, 0.53967451, 0.71032017, 0.26222937]])"
            ]
          },
          "metadata": {},
          "execution_count": 4
        }
      ]
    },
    {
      "cell_type": "code",
      "source": [
        "names == 'Hasan'"
      ],
      "metadata": {
        "colab": {
          "base_uri": "https://localhost:8080/"
        },
        "id": "i0cdfHQaV-Wg",
        "outputId": "7ea258ca-7912-4fdd-f48a-9db8af1d9545"
      },
      "execution_count": 6,
      "outputs": [
        {
          "output_type": "execute_result",
          "data": {
            "text/plain": [
              "array([ True, False, False, False,  True, False, False])"
            ]
          },
          "metadata": {},
          "execution_count": 6
        }
      ]
    },
    {
      "cell_type": "code",
      "source": [
        "data[names == 'Hasan']   # Hasanga tegishli ma'lumotlar ajratib olish. Bu yerda Hasanning names massividagi indeksiga mutanosib ravishda dataning o'sha indeks ma'lumotlari qaytariladi"
      ],
      "metadata": {
        "colab": {
          "base_uri": "https://localhost:8080/"
        },
        "id": "eLNPoQLjWE1U",
        "outputId": "4bf8e168-1d8e-4e17-dd32-03a3e6b0d47b"
      },
      "execution_count": 8,
      "outputs": [
        {
          "output_type": "execute_result",
          "data": {
            "text/plain": [
              "array([[0.38612799, 0.84889422, 0.81369572, 0.55660211],\n",
              "       [0.63498842, 0.61404423, 0.86021701, 0.7655817 ]])"
            ]
          },
          "metadata": {},
          "execution_count": 8
        }
      ]
    },
    {
      "cell_type": "code",
      "source": [
        "data[names == 'Elyor']"
      ],
      "metadata": {
        "colab": {
          "base_uri": "https://localhost:8080/"
        },
        "id": "ps082bw7WVw1",
        "outputId": "42fce4e2-2874-4565-d430-70b2114d1bc4"
      },
      "execution_count": 9,
      "outputs": [
        {
          "output_type": "execute_result",
          "data": {
            "text/plain": [
              "array([[0.04148198, 0.20553509, 0.74844752, 0.05519567],\n",
              "       [0.00649586, 0.53967451, 0.71032017, 0.26222937]])"
            ]
          },
          "metadata": {},
          "execution_count": 9
        }
      ]
    },
    {
      "cell_type": "code",
      "source": [
        "data[names == 'Hasan', 2:]      # Hasanning ma'lumotlaridagi ikkinchidan keyingi ustun ma'lumotlarini olish"
      ],
      "metadata": {
        "colab": {
          "base_uri": "https://localhost:8080/"
        },
        "id": "cZbkVMfeWym-",
        "outputId": "f2ff592f-9466-4e01-848b-ce0614ffb6f6"
      },
      "execution_count": 10,
      "outputs": [
        {
          "output_type": "execute_result",
          "data": {
            "text/plain": [
              "array([[0.81369572, 0.55660211],\n",
              "       [0.86021701, 0.7655817 ]])"
            ]
          },
          "metadata": {},
          "execution_count": 10
        }
      ]
    },
    {
      "cell_type": "code",
      "source": [
        "data[names != 'Hasan']      # Hasanga teng bo'lmagan ismlarga tegishli ma'lumotlarni qaytarish"
      ],
      "metadata": {
        "colab": {
          "base_uri": "https://localhost:8080/"
        },
        "id": "9cuh3TQeXIxg",
        "outputId": "6338a2f7-02fd-4692-cebd-f4e7b29458eb"
      },
      "execution_count": 11,
      "outputs": [
        {
          "output_type": "execute_result",
          "data": {
            "text/plain": [
              "array([[0.38579289, 0.22490212, 0.88937932, 0.5481899 ],\n",
              "       [0.45291594, 0.37626239, 0.12427894, 0.74583466],\n",
              "       [0.04148198, 0.20553509, 0.74844752, 0.05519567],\n",
              "       [0.21548846, 0.14514722, 0.17478762, 0.20861807],\n",
              "       [0.00649586, 0.53967451, 0.71032017, 0.26222937]])"
            ]
          },
          "metadata": {},
          "execution_count": 11
        }
      ]
    },
    {
      "cell_type": "code",
      "source": [
        "data[~(names == 'Hasan')]     # Bu ham Hasanga teng bo'lmaganlarni qaytarish uchun"
      ],
      "metadata": {
        "colab": {
          "base_uri": "https://localhost:8080/"
        },
        "id": "uWAfGDrVXTND",
        "outputId": "8f7afcac-c80a-455c-a2b7-c9a3b06014dd"
      },
      "execution_count": 12,
      "outputs": [
        {
          "output_type": "execute_result",
          "data": {
            "text/plain": [
              "array([[0.38579289, 0.22490212, 0.88937932, 0.5481899 ],\n",
              "       [0.45291594, 0.37626239, 0.12427894, 0.74583466],\n",
              "       [0.04148198, 0.20553509, 0.74844752, 0.05519567],\n",
              "       [0.21548846, 0.14514722, 0.17478762, 0.20861807],\n",
              "       [0.00649586, 0.53967451, 0.71032017, 0.26222937]])"
            ]
          },
          "metadata": {},
          "execution_count": 12
        }
      ]
    },
    {
      "cell_type": "code",
      "source": [
        "print(names)\n",
        "print(data)"
      ],
      "metadata": {
        "colab": {
          "base_uri": "https://localhost:8080/"
        },
        "id": "lUKV3ichXlfD",
        "outputId": "c3607c79-c6f5-4db1-c503-5aa3557f2f93"
      },
      "execution_count": 13,
      "outputs": [
        {
          "output_type": "stream",
          "name": "stdout",
          "text": [
            "['Hasan' 'Husan' 'Mirzabek' 'Elyor' 'Hasan' 'Javhoir' 'Elyor']\n",
            "[[0.38612799 0.84889422 0.81369572 0.55660211]\n",
            " [0.38579289 0.22490212 0.88937932 0.5481899 ]\n",
            " [0.45291594 0.37626239 0.12427894 0.74583466]\n",
            " [0.04148198 0.20553509 0.74844752 0.05519567]\n",
            " [0.63498842 0.61404423 0.86021701 0.7655817 ]\n",
            " [0.21548846 0.14514722 0.17478762 0.20861807]\n",
            " [0.00649586 0.53967451 0.71032017 0.26222937]]\n"
          ]
        }
      ]
    },
    {
      "cell_type": "code",
      "source": [
        "mask = (names == 'Hasan') | (names == 'Husan')     # bu yerda | belgisi or ya'ni yoki sifatida ishlatilib ikki elementlar uchun ishlatiladi\n",
        "mask"
      ],
      "metadata": {
        "colab": {
          "base_uri": "https://localhost:8080/"
        },
        "id": "8Qdx_MDwXser",
        "outputId": "05592881-2ec9-46a9-89c9-58b120a2c9e6"
      },
      "execution_count": 18,
      "outputs": [
        {
          "output_type": "execute_result",
          "data": {
            "text/plain": [
              "array([ True,  True, False, False,  True, False, False])"
            ]
          },
          "metadata": {},
          "execution_count": 18
        }
      ]
    },
    {
      "cell_type": "code",
      "source": [
        "data[mask]"
      ],
      "metadata": {
        "colab": {
          "base_uri": "https://localhost:8080/"
        },
        "id": "dRUfc-McX_nd",
        "outputId": "4c7c76cc-864d-4b77-c8c2-430390cb8695"
      },
      "execution_count": 19,
      "outputs": [
        {
          "output_type": "execute_result",
          "data": {
            "text/plain": [
              "array([[0.38612799, 0.84889422, 0.81369572, 0.55660211],\n",
              "       [0.38579289, 0.22490212, 0.88937932, 0.5481899 ],\n",
              "       [0.63498842, 0.61404423, 0.86021701, 0.7655817 ]])"
            ]
          },
          "metadata": {},
          "execution_count": 19
        }
      ]
    },
    {
      "cell_type": "code",
      "source": [
        "data"
      ],
      "metadata": {
        "colab": {
          "base_uri": "https://localhost:8080/"
        },
        "id": "6aqu4T3mYTIG",
        "outputId": "9a7e4d75-9190-497d-bbee-f56e85b99347"
      },
      "execution_count": 20,
      "outputs": [
        {
          "output_type": "execute_result",
          "data": {
            "text/plain": [
              "array([[0.38612799, 0.84889422, 0.81369572, 0.55660211],\n",
              "       [0.38579289, 0.22490212, 0.88937932, 0.5481899 ],\n",
              "       [0.45291594, 0.37626239, 0.12427894, 0.74583466],\n",
              "       [0.04148198, 0.20553509, 0.74844752, 0.05519567],\n",
              "       [0.63498842, 0.61404423, 0.86021701, 0.7655817 ],\n",
              "       [0.21548846, 0.14514722, 0.17478762, 0.20861807],\n",
              "       [0.00649586, 0.53967451, 0.71032017, 0.26222937]])"
            ]
          },
          "metadata": {},
          "execution_count": 20
        }
      ]
    },
    {
      "cell_type": "code",
      "source": [
        "data[data<0.2]"
      ],
      "metadata": {
        "colab": {
          "base_uri": "https://localhost:8080/"
        },
        "id": "JH-ioxDsYZ_f",
        "outputId": "f3e862a7-f03d-4fb5-bce7-f45d6744a53d"
      },
      "execution_count": 21,
      "outputs": [
        {
          "output_type": "execute_result",
          "data": {
            "text/plain": [
              "array([0.12427894, 0.04148198, 0.05519567, 0.14514722, 0.17478762,\n",
              "       0.00649586])"
            ]
          },
          "metadata": {},
          "execution_count": 21
        }
      ]
    },
    {
      "cell_type": "code",
      "source": [
        "data[data<0.2] = 1"
      ],
      "metadata": {
        "id": "yN5mFhaiYff_"
      },
      "execution_count": 22,
      "outputs": []
    },
    {
      "cell_type": "code",
      "source": [
        "data"
      ],
      "metadata": {
        "colab": {
          "base_uri": "https://localhost:8080/"
        },
        "id": "3lIHMVDNYmop",
        "outputId": "28eb4638-02fd-4230-e152-e3fc65cf842c"
      },
      "execution_count": 23,
      "outputs": [
        {
          "output_type": "execute_result",
          "data": {
            "text/plain": [
              "array([[0.38612799, 0.84889422, 0.81369572, 0.55660211],\n",
              "       [0.38579289, 0.22490212, 0.88937932, 0.5481899 ],\n",
              "       [0.45291594, 0.37626239, 1.        , 0.74583466],\n",
              "       [1.        , 0.20553509, 0.74844752, 1.        ],\n",
              "       [0.63498842, 0.61404423, 0.86021701, 0.7655817 ],\n",
              "       [0.21548846, 1.        , 1.        , 0.20861807],\n",
              "       [1.        , 0.53967451, 0.71032017, 0.26222937]])"
            ]
          },
          "metadata": {},
          "execution_count": 23
        }
      ]
    },
    {
      "cell_type": "code",
      "source": [],
      "metadata": {
        "id": "lc3WOhtCYngF"
      },
      "execution_count": null,
      "outputs": []
    }
  ]
}