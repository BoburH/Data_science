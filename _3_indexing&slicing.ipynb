{
  "nbformat": 4,
  "nbformat_minor": 0,
  "metadata": {
    "colab": {
      "provenance": [],
      "authorship_tag": "ABX9TyOLFmz2NveQD7BVvxDjfZWQ",
      "include_colab_link": true
    },
    "kernelspec": {
      "name": "python3",
      "display_name": "Python 3"
    },
    "language_info": {
      "name": "python"
    }
  },
  "cells": [
    {
      "cell_type": "markdown",
      "metadata": {
        "id": "view-in-github",
        "colab_type": "text"
      },
      "source": [
        "<a href=\"https://colab.research.google.com/github/BoburH/Data_science/blob/main/_3_indexing%26slicing.ipynb\" target=\"_parent\"><img src=\"https://colab.research.google.com/assets/colab-badge.svg\" alt=\"Open In Colab\"/></a>"
      ]
    },
    {
      "cell_type": "markdown",
      "source": [
        "# Indexlash va kesib olish"
      ],
      "metadata": {
        "id": "1BDm_yJg2IXk"
      }
    },
    {
      "cell_type": "code",
      "execution_count": 1,
      "metadata": {
        "id": "QNHcE4n_1xKp"
      },
      "outputs": [],
      "source": [
        "import numpy as np"
      ]
    },
    {
      "cell_type": "code",
      "source": [
        "arr = np.arange(10,100, 10)     # bu 10 dan boshlab 100 gacha qadamlari 10 ga teng bo'lgan bir o'lchamli massiv yaratadi"
      ],
      "metadata": {
        "id": "S4fRKMAl2L2n"
      },
      "execution_count": 2,
      "outputs": []
    },
    {
      "cell_type": "code",
      "source": [
        "arr"
      ],
      "metadata": {
        "colab": {
          "base_uri": "https://localhost:8080/"
        },
        "id": "dppZ0CWc2oSd",
        "outputId": "fce00a6a-e442-4a2d-d5a0-da54d365a414"
      },
      "execution_count": 3,
      "outputs": [
        {
          "output_type": "execute_result",
          "data": {
            "text/plain": [
              "array([10, 20, 30, 40, 50, 60, 70, 80, 90])"
            ]
          },
          "metadata": {},
          "execution_count": 3
        }
      ]
    },
    {
      "cell_type": "code",
      "source": [
        "arr[5]"
      ],
      "metadata": {
        "colab": {
          "base_uri": "https://localhost:8080/"
        },
        "id": "wJBccEVy2qGB",
        "outputId": "6b7af2b1-c828-4525-943d-704a485541f5"
      },
      "execution_count": 4,
      "outputs": [
        {
          "output_type": "execute_result",
          "data": {
            "text/plain": [
              "60"
            ]
          },
          "metadata": {},
          "execution_count": 4
        }
      ]
    },
    {
      "cell_type": "code",
      "source": [
        "arr[-9]"
      ],
      "metadata": {
        "colab": {
          "base_uri": "https://localhost:8080/"
        },
        "id": "TgXs9ev-2tQI",
        "outputId": "d258626b-4b07-4553-8c38-6dd52ec0d13e"
      },
      "execution_count": 5,
      "outputs": [
        {
          "output_type": "execute_result",
          "data": {
            "text/plain": [
              "10"
            ]
          },
          "metadata": {},
          "execution_count": 5
        }
      ]
    },
    {
      "cell_type": "code",
      "source": [
        "arr[1:5]    # oraliqdagi elementlarni kesib olib qaytaradi"
      ],
      "metadata": {
        "colab": {
          "base_uri": "https://localhost:8080/"
        },
        "id": "z0WLls5D2vo7",
        "outputId": "3db1bb9a-34e5-4516-e55d-ea2d01fc4271"
      },
      "execution_count": 7,
      "outputs": [
        {
          "output_type": "execute_result",
          "data": {
            "text/plain": [
              "array([20, 30, 40, 50])"
            ]
          },
          "metadata": {},
          "execution_count": 7
        }
      ]
    },
    {
      "cell_type": "markdown",
      "source": [
        "# Kesib olingan massivga o'zgartirish kiritilsa asosiy manbaa ham o'zgarishga uchraydi, buning oldini olish uchun comy metodidan foydalaniladi"
      ],
      "metadata": {
        "id": "k-V96J0y3FHK"
      }
    },
    {
      "cell_type": "code",
      "source": [
        "arr"
      ],
      "metadata": {
        "colab": {
          "base_uri": "https://localhost:8080/"
        },
        "id": "t59M8yhb22kN",
        "outputId": "cf3c4697-fc62-4d5c-f594-0f81ac0bb585"
      },
      "execution_count": 8,
      "outputs": [
        {
          "output_type": "execute_result",
          "data": {
            "text/plain": [
              "array([10, 20, 30, 40, 50, 60, 70, 80, 90])"
            ]
          },
          "metadata": {},
          "execution_count": 8
        }
      ]
    },
    {
      "cell_type": "code",
      "source": [
        "sliced_arr = arr[3:5]"
      ],
      "metadata": {
        "id": "kMAzcrtp3Prd"
      },
      "execution_count": 9,
      "outputs": []
    },
    {
      "cell_type": "code",
      "source": [
        "sliced_arr"
      ],
      "metadata": {
        "colab": {
          "base_uri": "https://localhost:8080/"
        },
        "id": "Bavi-Nvi3V_2",
        "outputId": "2dfeeded-99be-482c-fc01-e186d7f9b44a"
      },
      "execution_count": 10,
      "outputs": [
        {
          "output_type": "execute_result",
          "data": {
            "text/plain": [
              "array([40, 50])"
            ]
          },
          "metadata": {},
          "execution_count": 10
        }
      ]
    },
    {
      "cell_type": "code",
      "source": [
        "sliced_arr[:] = 0"
      ],
      "metadata": {
        "id": "w1aQvFt83ZuM"
      },
      "execution_count": 11,
      "outputs": []
    },
    {
      "cell_type": "code",
      "source": [
        "sliced_arr"
      ],
      "metadata": {
        "colab": {
          "base_uri": "https://localhost:8080/"
        },
        "id": "m2wFHITx3dqp",
        "outputId": "2d2c5e8c-f2d8-4554-e4d8-7b6690456a57"
      },
      "execution_count": 12,
      "outputs": [
        {
          "output_type": "execute_result",
          "data": {
            "text/plain": [
              "array([0, 0])"
            ]
          },
          "metadata": {},
          "execution_count": 12
        }
      ]
    },
    {
      "cell_type": "code",
      "source": [
        "arr"
      ],
      "metadata": {
        "colab": {
          "base_uri": "https://localhost:8080/"
        },
        "id": "xa_wY4DR3fWh",
        "outputId": "8bf3fc44-47c3-4b6e-d2e0-6e2800955edf"
      },
      "execution_count": 13,
      "outputs": [
        {
          "output_type": "execute_result",
          "data": {
            "text/plain": [
              "array([10, 20, 30,  0,  0, 60, 70, 80, 90])"
            ]
          },
          "metadata": {},
          "execution_count": 13
        }
      ]
    },
    {
      "cell_type": "markdown",
      "source": [
        "# copy usulidan foydalanilganda esa manbaaga tasir ko'rsatmaydi"
      ],
      "metadata": {
        "id": "Bae97A7o3jKb"
      }
    },
    {
      "cell_type": "code",
      "source": [
        "arr1 = np.arange(10, 100, 10)"
      ],
      "metadata": {
        "id": "WMwBPnSX3gmD"
      },
      "execution_count": null,
      "outputs": []
    },
    {
      "cell_type": "code",
      "source": [
        "arr1"
      ],
      "metadata": {
        "colab": {
          "base_uri": "https://localhost:8080/"
        },
        "id": "0CuyD0YM3pt7",
        "outputId": "c220d65b-9d49-47c9-f2c7-8c887c05f6b8"
      },
      "execution_count": 16,
      "outputs": [
        {
          "output_type": "execute_result",
          "data": {
            "text/plain": [
              "array([10, 20, 30, 40, 50, 60, 70, 80, 90])"
            ]
          },
          "metadata": {},
          "execution_count": 16
        }
      ]
    },
    {
      "cell_type": "code",
      "source": [
        "sliced_arr1 = arr1[3:5]"
      ],
      "metadata": {
        "id": "KJfnKBFu32zj"
      },
      "execution_count": 17,
      "outputs": []
    },
    {
      "cell_type": "code",
      "source": [
        "sliced_arr1"
      ],
      "metadata": {
        "colab": {
          "base_uri": "https://localhost:8080/"
        },
        "id": "gxy6a-EO4IOb",
        "outputId": "eef0ab84-ae10-4665-b2ac-b616b351690e"
      },
      "execution_count": 18,
      "outputs": [
        {
          "output_type": "execute_result",
          "data": {
            "text/plain": [
              "array([40, 50])"
            ]
          },
          "metadata": {},
          "execution_count": 18
        }
      ]
    },
    {
      "cell_type": "code",
      "source": [
        "sliced_arr[:] = 0"
      ],
      "metadata": {
        "id": "IUg0GHMi4Khr"
      },
      "execution_count": 19,
      "outputs": []
    },
    {
      "cell_type": "code",
      "source": [
        "sliced_arr1"
      ],
      "metadata": {
        "colab": {
          "base_uri": "https://localhost:8080/"
        },
        "id": "it4pRgEX4N-L",
        "outputId": "b68ea6ff-3b79-4261-8675-60aa6cc3d19d"
      },
      "execution_count": 21,
      "outputs": [
        {
          "output_type": "execute_result",
          "data": {
            "text/plain": [
              "array([40, 50])"
            ]
          },
          "metadata": {},
          "execution_count": 21
        }
      ]
    },
    {
      "cell_type": "code",
      "source": [
        "arr1"
      ],
      "metadata": {
        "colab": {
          "base_uri": "https://localhost:8080/"
        },
        "id": "rlRAXgki4Ppp",
        "outputId": "3c4a34a3-4d71-486d-dc9e-9a2c6cac8ce1"
      },
      "execution_count": 22,
      "outputs": [
        {
          "output_type": "execute_result",
          "data": {
            "text/plain": [
              "array([10, 20, 30, 40, 50, 60, 70, 80, 90])"
            ]
          },
          "metadata": {},
          "execution_count": 22
        }
      ]
    },
    {
      "cell_type": "markdown",
      "source": [
        "# 2D (2 o'lchamli) massivlarda indekslash va kesib olish usuli"
      ],
      "metadata": {
        "id": "MxrwwrPu4XRd"
      }
    },
    {
      "cell_type": "code",
      "source": [
        "arr2d = np.array([[1,2,3], [4,5,6], [7,8,9]])    # bu 2 o'lchamli 3 qatorga 3 ta ustunli massiv"
      ],
      "metadata": {
        "id": "bPQwvM6c4Sqi"
      },
      "execution_count": 24,
      "outputs": []
    },
    {
      "cell_type": "code",
      "source": [
        "arr2d"
      ],
      "metadata": {
        "colab": {
          "base_uri": "https://localhost:8080/"
        },
        "id": "isLE0LGD41uG",
        "outputId": "e9229433-fb0e-49c7-e4a8-e4bf454eb639"
      },
      "execution_count": 25,
      "outputs": [
        {
          "output_type": "execute_result",
          "data": {
            "text/plain": [
              "array([[1, 2, 3],\n",
              "       [4, 5, 6],\n",
              "       [7, 8, 9]])"
            ]
          },
          "metadata": {},
          "execution_count": 25
        }
      ]
    },
    {
      "cell_type": "markdown",
      "source": [
        "# Ikki o'lchamli massivlarni indekslash quyidagi jadval asosida amalga oshiriladi\n",
        "\n",
        "![image.png](data:image/png;base64,iVBORw0KGgoAAAANSUhEUgAAAhYAAAKFCAYAAACQtaA+AAAgAElEQVR4nO3de3xU5b3v8W+77QUNmkt1x6LSQLQtLUYuYtVEW0UpqC2CF2zdxVd116j7VCjeaqWg6LbWC7rbYvSAp1itqIAoWoigbgyVylWMosVgRKWNdZNEk012zz7neP5YM5M1a9bMWjOzrpnP+/WaVzKTNWt+SVayvvM8z3oeCQAAAAAAAAAAAAAAAAAAAAAAAAAAAAAAAAAAAAAAAAAAAAAAAAAAAAAAAAAAAAAAAAAAAAAAAAAAAAAAAAAAAAAAAAAAAAAAAAAAAAAAAAAAAAAAAAAAAAAAAAAAAAAAAAAAAAAAAAAAANH2qbALACKuTtIQSV9P3D/F9LVaScNd7GOXpLbE589LelfSRklve1QjAADwwDBJl0paLePE/Ynp1iZpiaRpkqpc7q8qsf0tkjZZ9ufHrU3SNYnvAwAAhGSYpAVyfwLvlHECd7I6j316fVsgAgYAAIGbJCMoFHLy3qTcrReFBotrJNXLPhjUy2gFWeCi7k4ZLTAAACAAk1R8y4BTuLCqUmY3i/WWz76myTlgLMhjnwAAoAB1Sj8hJ7s3zK0E9XLXRXJLnq/t1JKRryoXda5WfgEIAADkwXxyd2p1sIYQu1s+4xm8DhZJlzrsd0kR+wYAAFnUq/9k2yZ37+TNzym21cKvYKFEHV62rgAAAAfmboNpeTwv1yWjm/LYj5/Bws3+J3nwGgAAICE5eLIzz+c5dTW45XewGOawf7etNAAQuk+HXQDgQnJ2y3zHHLzudSE+eVvSvTm+PlzSxQHVAgBFIVggTl4MuwAf3efw9esCqQIAikSwQJy8H3YBPtouaXOOr1cov/ElABAKggXi4FOJ23oP95nrJB6WZx2+PjmQKgCgCAQLDGSH5fja44FV4d4fHb5+eiBVpKuTMRHZatlfZbNaxiDZYgaXmucdMV9eO0zGuBrzvB75zD/i134l40qdW2S/AF6n+hfAAwAMILlmt4zCBFlWdQ6v80limyBMkvNU5taTab61VckILdagImWf5KxTziHGr/0qsd981qrJNZmb0xwm1pvd4GW369ustnkuACAPVcp+Ash3LY6ggoUcXucT+T+nRZXS380np043h4Zsl/G6OTkPk/E9ZAt9qxPb5Dp5200a5td+k+qU3mLTJqNFIhlQc03Tnu2kbg0/Tje7+twGCzer+wIAcpimwk9+VlEKFn6eIOqU3kqRqxUi20k0V31uTqSrlR5s3Jyo/dpvknXhuFytENlaeepttq2SEYZyHV+didfP1RpUl9iP9fvbJCZXAwDPZPsHX8g/2lIIFnZdBLmWcM8W3HI1uTtNWJY8keb7zt2v/Wb7PnOd5AsJXFXKPUtsPsz7yXfcCAAgi2zvYAsdTDfQg0W2bqNcJ9Bca7HkUi/nsQWdMk6K9Vnqsjth+rFfu+/RafbXbMee0xiHXD/PQqaxZ0wFAHgk2wDIYhbzGujBItu77FyqctToRq4QYD6R1qn/598m5xYnL/dr1+rldMKelOW13Zzosx1nbS6eK6VPDc8VKQDggWxNyvkO1rQa6MHC7nXcTJ9ezM8j17iIYni132wtCLm6h3I9z02wKLbVItkllO+aOgCALOzeeRcbKqRoBQuv34laT2ZtMk7Obga4FvPzKOYEHMR+rQFlk9z97It9/WJaLZItLMW0zgEAEuwG2XkRKqTggoXTKqefyP7qAi9eM98JnYrtCol6sEheCbJA+f3Mi+kKyfV8p9+9uQuQQZsAUCS7cRVehQopuGCRqyncj9aRQlTJOOnmmjzLjagHi3wNU+7Js/J5/Ww/21z7SLbWbcq3cABAOrtJj7wMFVJwwcJpPoYwTxrDZDSxu7ls041sAcDtQMWg95vr9XLN8FpIsMh2KW+u1ojk78VpDAgAIAe7wZpehwopuGDh9DphnDSsEy+ZZ+L0I1gU+/P0a79myVYbu5k4C5nfw27/+cwaa37NYtZsAYCSZz0R+xEq7F7HjxNWrjELTu9W/WDX3WEd1FlqwSK5Bon5pJ+cGdPp9fPtisl12az1OEgen26u5AEAZGFtfvYrVEjBBItczd9+f39m9coMFG2ynyyrlILFpcpsRVitzBYCr4JFroG8C7Jsx9wVAFCgYkOFuanZzaV5TsHCi+bnXIMhkzNG+s1ujEebsn9/pRAsrIuyJW/ZWge8HDzqZnXe5O/MrzEkADDgWZuICxl3YG4dcDPhlFOwKPYSUKe1LoIYW5Ft4GiumS5LIVhk+91nC1teBotc30syTCcDKauXAkABrN0FhTb9mlsH3IQCp2BRzIREdot/uXln7KVCTsbFnsDjECwKWfej0LVCssl17Jn/Hpi7AgDyZD1hFBIq6pXZrJ1roa0kp2BRyFLsyXpyhYpcy3N7Kddy4tnkamVxE9biECwKmZOikJ9lLk5jb4IKnwAwoDi9qy/m5oab1842wNFOlZxX4rQbGOiXXN+f3Tthp5NdMlhMUvbWnKgHi1yX02Ybz+A0n0XSNcovGOcaf+M2yAEAErItLObFzc2EU25mwzTfFsg4oVpPyMMSjy+Qc1AJeq0Hp59R8ntJTpJlPsHaPedSpQ+QzbbMeT5hxi2v9uv0e1+g/uBnXik118+lzrTffAZb5gpyDNoEgDzlalou9mZt0q6TcfKpUn8I8Ou1s50kwnj36fSOOFutud7V5zrx1St3WNwk960/fu3XzbotdrfkmitO2+VzJVOuCbOYaRMA8uB0tUSxN+tIeqcptf0MFGHOQZDv992p/hO003OT31eVjJNpviGmTcbJOlu3kF/7lZzH1lhv5jExTs/Nt1Um28+ZmTYBIA9+n+itl1IGESw6ZZx0lsgIToW8M/daPt1N5i6ApGzPNXc15dulZL1l+zn5tV/J/die5DTnZnZr2CRvhXR12c3MGtSkaQAAFGSaMt9pJ4PQNcr+Ljs51XWb6Tl2ASSOkt+bNTwlWzyS40nsDFP6mJo2FTffhLVrLgqhFAAAxJR53AfLowMAgKIlWz9YFwQAABQlOZ6kM+xCgFw+HXYBAABXvpf4+ItQqwAAALFnHl/BuiAAAKAoyStCuMQUAAAUxdxawbogAADA0TT1zwOyQOndHcmJ27jEFAAAOLJbW6RTxuRbk8QlpgAAIA9u1jmxLpgHAABgy81aJFwJgtj4h7ALAIAS91lJDVm+1iXpW5LeDK4cAAAQd9YF4NpkDOJkoTEAAAAAAAAAAAAAAAAAAAAAAAAAAAAAAAAAAAAAAAAAAAAAAAAAAAAAAAAAAAAAAAAAAAAAAAAAAAAAAAAAAAAAAAAAAAAAAAAAAAAAAAAAAAAAAAAAAAAAAAAAAAAAAAAAAAAAAAAAAAAAAAAAAAAAAAAAAAAAAAAAAAAAAAAAAAAAAAAAAAAAAAAAAAAAAAAAAAAAAAAAABAtnwq7AHjqGkmDJW0MuxBE3jhxnMDZOEn/IentsAtBpH1B0jBJsyWCxUDzSdgFAABK1nWSbtsv7CpiZI7p8xtDqyK3/yfp03XDDtXnPsOvFvZ2f9ClD7p7NaTqQA35wkFhl4OI+s//+t96ffcH+ux+/6Bjhn8x7HIQYa+906F9f/9vSXpDosUiH+bWgKj+3PZJGrTjf87SEYeUh10LImrW/U/rvmde1vXTvqXrLzgl7HIQUa/s+ovqf3KvDvvCQXpz0VVhl4MIO2HGAr3a/ldJOl3Smk+HXA8AABhACBYAAMAzBAsAAOAZggUAAPAMwQIAAHiGYAEAADxDsAAAAJ4hWAAAAM8QLAAAgGcIFgAAwDMECwAA4BmCBQAA8AzBAgAAeIZgAQAAPEOwAAAAniFYAAAAzxAsAACAZwgWAADAMwQLAADgGYIFAADwDMECAAB4hmABAAA8Q7AAAACeIVgAAADPECwAAIBnCBYAAMAzBAsAAOAZggUAAPAMwQIAAHiGYAEAADxDsAAAAJ4hWAAAAM8QLAAAgGcIFgAAwDMECwAA4BmCBQAA8AzBAgAAeIZgAQAAPEOwAAAAniFYAAAAzxAsAACAZwgWAADAMwQLAADgGYIFAADwDMECAAB4hmABAAA8Q7AAAACeIVgAAADPECwAAIBn9gu7AKCzZ59+9eRLWtrSqvaOTknS6Noh+vHkE3VOw8iQqzPEocZSEZffRWfPPh3deLe6e/skSeVlg/T+w9eHXFVpaG3v0KLmTVra0pr6+U+tH6nGM47T8SOGhlyd1N7Rpee3t2nlhh1au60t9XhNdaVOHVWr8086OhJ1FopggVA1b9mpi+9amvrjT9ratkcX3fGY/m3FH7Vi7g9UOXj/kCqMR42lIi6/i86efZo898G0Oq01wx/zl7do9uJnMx5ftr5Vy9a36pKJ43R341khVGbIVp8ktXd0auGqjVq4aqPGj6rVA7PODf1YLgRdIQhN85admnrT71L/cO+5/DvqfXKeWu/7iabWG+88t7bt0eS5D6qzZx81lri4/C6SoWJr257QaihVNz60NnXSLi8bpDW3XqLeJ+dpza2XaHTtEEnSwlUbNaNpZSj1zWhamTVUWK3d1hb6sVwoggVC0d7RpYvvWpq6P2/66bp4wrGSpJrqCs1vPFM11ZWSjJPFzKanqbGExeV30drekTVUlJcNCqGi0tG8Zaduf3xd6v7jP/t+qjvh+BFD9Zt/mZz62sJVG7WoeVOg9S1q3qSFqzZKMrplkqEnGXzGj6rNeM7Wtj361ZMvBVqnFwgWCMU9K9anNQ1PP21M2tcrB++f1l++bH2rNuzYHVh9UjxqLBVx+F0sat6kiTc8oK1te3TJxHEZXx975JBA6yk1V93/TOrz0bVDMsYojKypTrVaSNKcB9cE1hrQ2bNPcx5cI0m6+tyTtfjq89LqO37EUK2YO932uLn98XVq7+gKpE6vECwQuPaOrlRyl4x/Anb9iKePPjLt/m2P/bvvtSXFocZSEfXfxYYduzV57mJdueApSdKyn/9TqH34pcg8kFeSTrV59y9JZ5/4tdTn3b19Wrxmi++1SdKmne+ru7dPNdWVmnPh+Kzb/fz7p9q2bG15630/y/McwQKBe3Bt+h9z5WD7JuLqygPT7q/d1qbW9g7f6jKLQ42lIuq/i2e3vqXOnj7Nm366Xm2aoQljjvL9NZHu31b8Me3+gft/zna7ww8uT7t/57IW32oy27H7A0nSjCn1OberHLy/Tj0mMxS992G3L3X5hWCBwC1taU27f/LRw2y3q6muyHhs+R9f86UmqzjUWCqi/ruYc+F4vXhno2ZOaYjlCP64a+/oyhjT8o2vHGG77ZCq9PDZ3dun5i07favNasThhzhuc8zwQwOoxF8ECwSqvaMrrckyX9sCGGkfhxpLBb8LOCm2myDZmuCnmVMa1PvkvFjPTZEPggUCVew/AfNkMn6JQ42lgt8FnKx//Z2inr/u1bc9qsQbu/+W2e0xftSRNltGF8ECgfKir9DvEdJxqLFU8LuAk3eKaNGSpF1/Le75XnvOEobHj6rVyJrqkKopTNRn3qyTNNjm8R5J2wOuBR7w4t1BR+fHtv3pXolDjaWC3wWcFNsqVUxXm9da2zsy6rn2vG+GVE3hohYs6iRNkHRK4qOTZklPSFojKVrtWQAA5ME6adfV554cy3EZUQkW9ZJukLswYTbB9JxmSTdLWu9hXQAA+G7Djt1p87VMrR+Zc86LKAt7jEWdpNWSWpR/qLCakNjPEkn216MBABAxnT379KN7lqfuj64dovmNZ4ZYUXHCDBbXSHpFxQcKq/MlbZY0zeP9AgDguZlNT6fGVoyuHRKJFXqLEUZXSJWMVoqxPr5GhaRHJI2U9DMfXwcAgILNX96iZeuNSeAGQqiQgg8WdZKWSRpuebxL0kZJz0t6TdLHch4rMUzSFyV9LbHf0232e72MkHF5UVXDM19KrEBZDL8HM8WhxlLB7wJOaqori7qyw25V0aA0b9mZWkZ9oIQKKdhgUSfpBRkn+qR7Jf1ehQ24fDtxMz+3TtJ5ki4zvc5liY+EiwgYeki580Y51HhwonEShxpLBb8LOBl+aHHBwovwWojW9g5dfNdSSQMrVEjBjbGwhop7ZbQuXC5vr+LYLqPr40hJ18poCZGMcLHAw9dBgbLN4e+Wedljv8ShxlLB7wJOsq0d41YYk0+1tndo4g0PqLu3b8CFCimYYFElaaGMUNElqUFGoPBz3om9kn4pI2A8mnjsMkmX+viacOHLhx/setsNO3ZnPHbS0TVelmMrDjWWCn4XcDJi6D+63vZPb76b8di4ow73shxHnT37dMWvV6i7t0/jR9U6hooNO3ar7LuzNXnu4gCrLE4QweInMgZqbpZxog9ynom9Mq4OaUzcb5IxZwZCUjl4f02tH5n2mN3c+NmcUud/f2gcaiwV/C7gZMKYo1ReNijtsT17P3b13JrqykBbLDp79mny3Ae1tW2PLpk4TivmTndsqXj0xVclFd8yEyS/g0WVjJaCzZK+LeNEH4b7JF0go8XksJBqQML3Tjkm7X62uf53vPe3tPtT60faTs3cvGWnTprVpLLvztbIS+dr/vKWyNWIwsXheEG4/nniuLT72daYeWXXX9Puz5hi/z5z/vIWjbx0vsq+O1snzWryZGl1a6i4u/Esx+csat6UmjTr8IOLG28UJL8Hb+6V0VrxkcILFUlLZFx5wtTfIZsw5qi0kdyb37Jf2rq1vSPtfuMZx2Vs097Rpak3/c50v1OzFz+rda++rRVzp0eiRhQnDseLVWfPPs/2BWc/GD9Gtz++LnXfGiCStrb1HzvlZYN09glfy9hmaUtr6kqN5HOm3vQ7zZt+umZOaSi4xpsefi71+gtXbUybZdONIVUHFvzaQQuiK+RthR8qJGmSjAGct4RdCKT7r5yS+ry7t09LW1rTvt7e0ZX2h5dtzvwVL71mu/+129qKfifqVY0oXhyOl/aOLi1tadWND63VyVfdZ/saNz60Vs1bdmaEIBSnprpC86afnrq/bH1rxqq2S1ta064eWfSTc2y7IR56bqvta8xe/KztOB435i9vyTtIWOUz3ihsYU/pHaQfyJjlc0zYhcCYW+Dqc09O3Z/RtDL1R9ve0aXptz+a+tro2iH6H989Ie/XeKB5c+RrhDtxOF5GXnqXLrrjMd3++Lqslz/e/vg6Tb3pdzp+xm/ogvHYzCkNaVcBTb/90VS42LBjt2Y0rUx97ZKJ4zRhzFF5v0ZyvEM+zHNVFKq8bFCsrhqJyiJkfquSMYEWImTOhePV1dunhas2qru3T6f9dGHGNuNH1eqBWedm/aPKdTmiF8she1EjvBGH4wXhWjH3B6lxDFvb9mjkpXdlbHP1uSfnXNzr5KOHZV2KPdv4nlx27P4g7+dYjT0yXpdNRyVY1MtYQAwl5u7Gs3T+SUer6ZmXtbVtT9p8+T+efKLOaRiZ8/nHjxiqNbdeoh/ds9y3E0OxNcI7UT5eep+c5+n+kL/KwfvrxTsbtbSlVQ89t1Wb39qj7t4+ScZg3sYzjnPsrpw5pUEHHvB5zXlwTeq5xZg5paGosRlxFJVg0SPjig2G05eg40cMLWpswvEjhmrdHZfqV0++lDaAy3oJWjGKrRHeicPxgnCd0zCyqMB/8YRjdUpdrWY2PZXWenHQARwjbkRljMV2GVePdDltCNipHLy/5lw4Pm3e/1OPYQ4D2ON4gZOa6oqMK4WYcM2dqAQLybhigxYLFKWzp7/pkks/4YTjBbmYLxvOdnkqMkWlK6RexhUbSc0yVjp14zoZc1T83vTYYZLMo7QOkrHSKQawpS2tqevEx4+qpesCOXG8wMlNDz+X+nzW1AYGaLsUlWDxvcTHzZLOV36TWCVDw30yulSyGZ7YNwag+ctb0pYffmDWuSFXhCjjeEEunT37NLPpaS1bb8yXcsnEcSU3ALMYUQkW0xIf8w0VkrRKRrBYKOnYHNttFcFiwGneslNX3f9MaoT/1PqRmt94Ju8sYIvjBU7mL2/RnctaUleEFDvjZimKQrCokzG2YrOKm257rIzZNf+Q5ev2U+4h1o4acrC6EqsEXnveN2nORk4cL3AyYug/qru3T5dMHKcrJ9ez9k8BohAsBic+Fjrtt3kC9ROVPVj8QdKnCnwNRFRNdYXef5jhM3CH4wVOJow5ijlJihSlq0LGOW9i6wemz5muGwCAEEUhWKxPfKyQcXVIPurFuAkAACIjCsFCkpIrCP1WxroebtRJesryWLdnFQEAgLxFJVisSHwcLuktGVeJZAsYwyRdI+kVZU6o9YIv1QEAAFeiMHhTMia4ullGsKiQ9Eji8c1KH9RZm9jGTpekpX4VCAAAnEUlWEjSRcpc4XRsHs+/XIVfWQIAADwQla4QyRjEeUGBz71XRqsHAAAIUZSChWSEgzOU3yqn18porQAAACGLWrCQjImsjpQRGHZl2aZLRivFcEm/DKguAADgIEpjLMz2yggMv5RxWelg09d6lHuxMQAAEJKoBgszQgQAADERxa4QAAAQU0G2WFRJOk3SEYn7H0lao+JWNAUAABESVLCYJmmBMmfKlKRmGVd1EDAAAIi5ILpCJsmYSTPbovYTZMywWRdALQAAwEdBBIuHXGxTIWOdD8IFAAAx5newqFf2lgpJapQxIdbmxHYLfa4HAAD4yO9g0ZPja49Kuk/GhFjfljEZ1lgZ4zEAAEAM+R0stssYnGnVJel60/29MhYhk6TJPtcEAAB8EsQYi+/LmH47aZekbynzKpD1ia9tDaAmAADggyAuN90r43JSNwuF1fpcCwAA8BEzbwIAAM9Efa2QYZK+IunrifuvSfpYRrcJAACImKgGi2mSZsm4SsROl6Qlku4QM3YCABAZUesKqZK0WsZMndlChWTMeXGZjPkvuDwVAICIiFKLRTJU5AoUVhUyQohktGAAAIAQRanF4mHlFyrMHpExyycAAAhRVFospslYjMxsl6S2LNtXKTOE/FZcrgoAQKiiEizMs20+KulWGbN25lIl6WJJ18noEhkuYxEzp+cBAACfRKUr5PzEx3tltF64CQd7Jf1SxiyeXYnHrK0eAAAgQFEIFuaxEbMLeP52Sb9IfD66+HIAAEChohAskppltEIU4qXEx3KPagEAAAWIUrAAAAAxF4Vg0ZP4OE7GgMxCTEx8ZBZOAABCFIVgkRyoWSHjKo98DZMxC6d5XwAAIARRCBaScYmpJN0maYGMsOCkSsYVJJtlhBJJWuN9aQAAwK2ozGPxa/VfcnpZ4pbvBFnNoisEAIBQRSVYrJfRanG+6bHhiZsbXZIu97ooAACQn6h0hUjSFTK6NQpxoWitAAAgdFEKFnslfVtGl4ZbXZLOkPQHXyoCAAB5iVKwkPrDxQXK3XrRJWP677EiVAAAEBlRGWNhtSRxGybpi5JOSDz+rqT3ZYzJQKb9JGnR6o0qLxsUdi2IqFd2/VWS9Kc33tX85S0hV4Oo+svejyVJPX1/5zhBTh9+1Jt2/1Mh1RFHn5g+j+rP7RPnTQAA8MV1km4LosWiSoWvAYL8/B9J+0058es64POfDbsWRNTGne/pz+99qKNrDlXdsEPDLgcR1dmzT89sfFMHfP6zmnLi18MuBxH2zMY31NnTJ0lbJf+7QqokrZa0SeFfDpqs5U4Z3SwD0X9L2u/miyboiENYjw32Zt3/tP783oc687iv6PoLTgm7HETUK7v+omc2vqmKskG698dnh10OIuyEGX9NBgtJwQzerJAx4dUCFb4WSLHqJL2szEm1AACAh/wOFnslTZVxFcdlMloM6nx+TatJkl6QMdnWoxq4rRUAAIQuiBaL7ervBhkr6RVJt8j/1osqGa0kz8hoNdksYxIuAADgk6DmsVgiY26KpOslvSUjYLhZcCwfwyRdk9h/ctXTzTLmx2AQKQAAPgpyHotkF8QjiY8VMgLG9TJO/M9K+qOkN5Xf9NxVkr4qY66LUyRNsHydUAEAQECCniArGS4WqH+pc8noIrFbrdSJNURYESoAAAhQGDNvLpH0hqRlyr16qVNocPKvkn5W5D4AAEAewlorZLuk42Sc/L22WVKDCBUAAAQuzEXI9so4+R+j/FY0zWaXjAGix4q1RAAACEUUFiHbLmMcRJ2k8ySdr9xdJGZdMrpWnharnAIAELooBIuk7Ynbz2RcMvoVSdkmqH9XxjiN7cGUBgAA3IhSsDB7O3GjFQIAgBgJc4wFAAAYYAgWAADAMwQLAADgGYIFAADwDMECAAB4hmABAAA8Q7AAAACeIVgAAADPECwAAIBnCBYAAMAzBAsAAOAZggUAAPAMwQIAAHgm7NVNzcujj5ZUbrNNt6Stkl6T9KaMVU8BAEAEhRUspkmaJWmsy+3PN32+S9L9kpaKkAEAQKQE3RUySVKbpEfkPlRYDZd0m4yAcYukKm9KAwAAxQoyWCyQ9IyMYOCV6yW9LKnOw30CAIACBRUsFki6zKd9D5f0gggXAACELogxFtOUHiq6JG2UtEXSR3nu6yBJYxKfTzA9XiFpoaRjC6wRAAB4IIhgcXPi4y5JP5b0Bw/3XS/pBhkhY6yMELPEw/0DAIA8+N0VUqf+MRWny9tQIUnrJX1b0qOJ+5M93j8AAMiD38FicOJjs/y9NPTXiY9282AAAICABDV4s9bn/R/o8/4BAIALfgeL9TIGaw6XcWWIH6ok3Zj4/HmfXgMAALgQRIvFvYmPl8mYHOsaGYMui7k8tC6xj1skvaX+ybZeKmKfAACgSEFcFXKXjCm5h6t/1kw/NMtoIQEAACEJosVir6SpMrpE/LJZ0vd93D8AAHAhqMGb2yUdKaNVwWv/KuOS070+7BsAAOQhyLVC9soIAA3yJmA8mtjXz0SoAAAgEsJYNj05qdUwSadJ+paMybMqHJ6XnAr8CUlrxJLpAABEThjBIultSfclbpJx2ehXs2z7hmiVAAAg8sIMFlZ7xVUdAADEWpBjLAAAwABHsAAAAJ4hWAAAAM8QLAAAgGeiND4aP5UAACAASURBVHgT0PzlLZq9+NnU/Xsu/44unnBsiBVJzVt26vfPv6Jl61slSeVlg3ROw0hdObleNdVOV0nDT1E8XiRp8tzFWrutLXV/w91XaGRNdYgVla6oHSPNW3Zq1aY/67ltbWrv6Ew9Pn5Urc46foTOPuFrqhy8f2j1eYFggchY2tKa9g9Akj7+z/8KqRqps2efZjY9nQoUSd29fVq4aqMWrtqo3151ns5pGBlShaUtasdL0oymlWmhQpJ6+/4eUjWlLUrHSGt7h6749Qptbdtj+/W129q0dlub5jy4Rnc3nhXr/ysEC0TC0pZWXXTHY2GXkWby3AdT/wRG1w7R4qvPV011hZa2tGpG00p19/alao7zP4E4iuLxIhmhYuGqjWGXAUXrGGlt79DEGx5Qd2+f47YD4f8KwQKhszZVmh14wOcDrsZw40NrU6GivGyQVsz9Qap58pyGkfpo33/pygVPSZIuuuMxffmwg2nqDkgUj5dsrVtJZYM+F3BFpS1Kx0hnzz597xePqLu3T+Vlg3R341kac+RhqqmuUGfPPi1es0V3LmvJCB0zmlamtosbBm8iNO0dXZo8d7FmL35W5WWDNLU+M52POPyQUOq6/fF1qfv/PHFcRp/n2Sd8Le3+7MV+rK8Hs6geLxt27NbJV92nZetbNbp2iEbXDsnYhtAZjCgeI4vXbFF7R6fKywap5c7LdE7DyFRYqBy8v2ZOadCqm3+o8rJBac/r7u3TPSviOWckwQKB6+zZp/nLW9Qw616t3damqfUj9WrTDB0z/NCwS5OkjD/mb3z1iIxtKgfvr/GjalP3125r04Ydu32vrRRF9Xhp7+jSjKaVOu2nC9Xe0al500/Xi3c2qnLwIOcnw1NRPUYk6Yk/vi5JurvxrKytDyNrqjVrakPG489ZxurEBV0hCNxH//l3PdC8WaceU6vGM47T8SOGhl1SSmfPvow+8gOzNGN/qboy7X7TMy9H6nsZKKJ6vOzc86Ge29amSyaO4wqhkEX1GJGkrW17UleS5TJ+1JEZ3Tfmq0biJI7Bok7S4MTnfxGrnMZOTXWFWu+bGXYZtp5/ZVfGY9n+SQ09pDzt/rL1rZrfeGbsLxWLmqgeLxPGHKUJ9x0VdhlQdI+RpLFHZnaPWQ2k7rKoBot6ST2Stpseq5N0m6QJlm2bJV0uAgY8sP71d4p6/p/f+zBS75YAhKv3yXlhlxC4qIyxqJe0WtIniVuLjBCRVCfpBWWGCiUe25zYBihKsX2af3rzXY8qAVBK2ju6Mh6zG3waB1EJFt9TemjokvSE6f5CSbk6MCuUHkSAghTbp7n7b90eVQKglGx56/2MxxrPOC6ESooXlWAxzfR5s6Sxku5L3J+UuG/WJekCSWfIaK2QjGBS72ONGOC8uKrjnZgOtgIQrpV/eiPt/vhRtbHtVo3CGIsq9bdGNEv6tuXrZ9o85zuSktcEviyjG2WspBNMjwMAEHntHV1pk6uVlw3S/MbvhFhRcaLQYvFV0+eX23x9muV+s9LDw15JdyY+P8XDugAA8N3MpqfS7q+6+Yexvnw5CsEiabMyr+yoU+bYipttnpvZOQUAQMQtat6Utmjdb686L/aXnkYpWOy1eewblvubZd/VcZj35QAA4J/W9o7UmkOSBsxqyVEIFj2Jj+Nsvna25f6dNttI0kWJj1s8qQgAAB919uzTxBseSN0fKKFCikaw2C7jKo8KSdeYHp+m9EtQd0laYvN883Yf+VEgSkN15YFF7+Pko4d5UAmAgW7y3AdTK5oOpFAhRSNYSNIvEh9vk7RJxlUej1i2ucHmeZdatnvJ+9JQKrwYLHX4weXOGwEoaTOaVmpr2x5JAy9USNEJFovUPx/FWGXOsLlZ6a0VdTLCR5PpsS5xqSmKZF6xtBBfPuxgjyoBMBDNaFqZWuhwIIYKKTrBYq+M+Suabb5mnduiTtIrygwfvxBQpFG1zosFJa17Nf0ipvKyQbEfzQ3AP0tbWrVw1UaVlw1yFSomz12ssu/O9mTyviBFYYKspGS4GCbpi4nH7FYv7ZF0beLz1yR9nGU7IG9TTvy6bn98Xdpj7R1drrpJBuI7DwDeWNrSqovueEzlZYO06uYfOr4Jae/oSl2GGrcZOKMULJLeVu6Q8LakXwZUCyKss2efbnr4OS1taVV3b5+m1o/UVeecVFSrwciaao2uHZLq/5Skjs6PbYPF5rf2pN2/eMKxBb8u/OfH8YKBpbW9Q3csfVHL1reqvGyQzmkYqZ9//1RVDt6/qP0WEiqm3/6oJKmmurKo1w5DFINFIeyWWUfMfLzv73ltf9PDz6X6KiVp2fpWLVvfqjW3XlJUwv/x5BN10R2Ppe7veO9vGftr7+hKjeiWjLEZnKCCFZXjxaqzp895IwQi32Pke794JLUQYXdvnxau2qilLa16tWlGweGitb1DM5pWpvZ5/Izf5PX84YcSLMJQL2OZdbt1RhBxG3bs1p/efFev7Ppr2lz5SdcuWqXpp4/RiMMP0ZcPPzjtj9t8kjA795aHi/pHcE7DSD303NZUM+Tdy9dntEbcs6J/nHDc5/WPkygeL509+7Rp5/vasfsDPfHH19Nau5Km3/6YzvrGVzWk6sDYNWvHTaHHyIYdu21XN+7u7dMP73xcK+ZOz7uW5FwV5jch+cpn3FdUDIRgwaybMTV/eYtmL3425zZb2/ak/aPufXKe4367e/v0/Cu7ihrzML/xO2qYda+6e/vU3tGpGU0rU02ii5o3pZ2k7m48K9bz+sdFVI+XH975eNqUzHaSrSOS0bpVyEkKzvw6RtZua3M91srMPFdFoQ47+KCinh+GIIJFnaRlic/vV+b4iCqlL0SWr8lFPBcxNn5UbdZ/6O992F3UvmuqK7Tq5h+m3m0sXLUx4x1vedkg3d14FoM2Y8LP4wXx9+XDD1Z52aCsQSDbWKtc7Fqv8jXi8EOK3kfQgggWL6h/IbHbJL2r9DkpviqjKwMlZuaUBs2c0lDw8x+Yda5+9eRLGVdxeGVkTbVebZqhxWu2aN2rb6dOSslBXVdOrqelIkBRPV5ofYiOYo6RysH7q+XOyzSz6SnHFii33LSGDER+B4t6Za5OepHSg8UbMqbrHu5zLRhgKgfvrzkXjtfpo4/Uj+5ZntY/euABn/fsNYo9oSEagjheEG811RVaMXe6FjVv0pwH16S1XpQN+lyIlcWL3xNk9dg8Zr2UdK/sp+sGXDl+xFDdf+WUtMfGHXV4SNUg6jhe4OTiCcdq1tT+NxNMfpcfv4PFdqXPptkl6Q6b7ZbIaLUACvJxX/9lZVz6CSccL3BivlTVHDLgLIgxFt+WsQLpQZKWymihsPOspMsSn18r9wuK3aDM6b1RQjp79umW3z+fun/ted8MsRpEHccLnLS2d+h/JgZrl5cN0vTTxoRcUbwEdbmp3XLnVubJrfKZWfN5ESxKVmt7h6749Yq0lQKZJwDZcLzASfOWnbr4rqXq7u1LzZRZ7MybpSZK81i8nvhotxBZLu96XQjiYfrtj6XmBigvG6RFPzlHE8YcFXJViCqOF+SSnEY7GTpH1w7Rb/5lMt1kBYhSsHhDUoPsB3zmslFG1wkBo8QMO7RS5WWDNGtqg6afNoZ3FciJ4wW5JC8dr6mu1JwLxzM/TRGiFCz2SlrvuFWmj7wuBPEw58LxmnPh+LDLQExwvMDJi3c2hl3CgOD3VSFu1Uv6RNLqAp67WsbEWxd5WhEAAMhbVIJF0gRJw/LYfoGksT7VAgAA8hS1YCFJ41xsUyWjpeIypw0BAEBwohgsbpYRHLJJhgouMQUAIGKiGCyGywgOduGiTtLLovsDAIBIimKwaJQRHKzhok7GSqksVgYAQERFLVg0S7pP0hlKb7lIhgrrSqmsLwIAQIREJVi8IekLMtYVkaQ/SPqW+sOFXajYLOk4SY8GVCMAAHAQlQmy7BYm2y7pckmP2Hxts4wQslfSrZK2ipk3AQAIXVSChZ06GfNUWN0rabb6w8h2pS9gBgAAQhKVrpBhkq6RNClxP9uYCik9VAAAgAiJSrD4ooxpuR+SMb23Xah4VFKXCpv2GwAABCAqwSKpQlKL7AdqXiHpOzIuRTV3kUxT4euMAAAAD0V5jEWSeaDmekkXyBjQWSnp12LxMQAAIiPqwcIcKpKWJD4+Iun8wCsCAABZRa0rxMwuVCQtkXRtsOUAAAAnUQ0WuUJF0i/F5FgAAERKFIOFm1CRdIWMK0UAAEAERDFYzJT7eSr2qn/MBQAACFlUBm/+RcaYiY9kXPmRj98nPr7oaUUAACBvUQkWb8sYM5GvOknfk/S0jIXLAABAiKLYFZKPwZJOl/SMpE0yllgHAAAhiXuwWC/px4nPx0r6SYi1AABQ8qLSFSIZrQ2nSTpJxqJkbk0wfT7G04oAAEBeohIsqiS9LGl4kft524NaAABAgaLSFfIbFR8quiTd4UEtAACgQFEIFlUqfs2PZknfEi0WAACEKgpdIV+13N8lqc10v0rGwMzNypw4a0Ji+8tFqAAAIHRRCBZmDbKfIKtN0uPKnOtimoxVTjfLaLHY7mt1AAAgpyh0hSQ1K/usm/dLuk6Z81QskXSvpApJt/lXGgAAcCMKweKNxMdck1stkhEe7OapSE7pPUFSvYd1AQCAPEUhWOyVMU5irLLPX7FXRsvE9ZImWb52mOnzEzyvDgAAuBaFYCFJzyY+/quyt1zcl/j4jKRrZLROTJO0wLTNKb5UBwAAXIlKsLhDxjwU50t6S8bYiWuUHjK2yxiHIRnjKVpkDNysCK5MAACQS1SCxduSfpr4vEJGwLhN0jzLdjcHWRQAAMhPVIKFZHR13Gt5bJrSWy3Wy+guyeZ5r4sCAADuRSlYSMZEV+ZwUSHpHMs2P1NmAJGMrpSlPtUFAABciFqwkIxwcYakRxP3v5VlmwtkjLlolhE0xorZNwEACFXUZt5M+kPiNi3HNksSNwAAEBFRbLEAAAAxRbAAAACeIVgAAADPRHWMBQrzGUm64bfNOuDznw27FkTUxp3vSZKefvlNvffhRyFXg6jq7NknSerq7dNl//ZEyNUgyt7/j+60+58KqY44+sT0eVR/bp84bwIAgC+uk3QbLRYDy39L+sxV55yk8rJBYdeCiHr65Tf0pzfe1SnHDNcpx9SGXQ4i6i97P9aClRt00AGf19Xnnhx2OYiw3zz1kv7a2SNJWyW6Qgaa/yPpMz+ccKyOOKQ87FoQUe992K0/vfGuvvGVIzTj7Pqwy0FEvbLrL1qwcoMGD/ocxwlyemzdq8lgIYnBmwAAwEMECwAA4BmCBQAA8AzBAgAAeIZgAQAAPEOwAAAAniFYAAAAzxAsAACAZwgWAADAMwQLAADgGYIFAADwDMECAAB4hmABAAA8Q7AAAACeIVgAAADPECwAAIBnCBYAAMAzBAsAAOAZggUAAPAMwQIAAHiGYAEAADxDsAAAAJ4hWAAAAM8QLAAAgGcIFgAAwDMECwAA4BmCBQAA8AzBAgAAeIZgAQAAPEOwAAAAniFYGI7xeH9f8nh/AADEAsHC8CVJczza13xJ3/RoXwAAxArBwrBC0kWSXpBUXuA+yiU9IWlyYn8AAJQcgkW/mTJaGrYp/66RYxLPmyzpRknd3pYGAEA8ECz6rZD0joxukWRIcOObMlo6vpR4Pq0VAICSRbBIN9P0+RNyHncxX+ndJ7RWAABKGsEiXbLVImmu7MddJMdTzDA9RmsFAKDkESwyzbTcT467MLPrKqG1AgBQ8ggWmaytFlLmvBTW+7RWAAAggkU21lYLJ7RWAAAggkU2dq0W2dBaAQBAAsEiO7etFrRWAACQQLDIzk2rBa0VAACYECxyc2q1oLUCAAATgkVuuVotaK0AAMCCYOEsW6sFrRUAAFgQLJzZtVrQWgEAgA2ChTvWVgtaKwAAsLFf2AXEhHnlU1orPNTZs0/Pv7JLK//0hp57pU3dvX2SpPKyQTr1mFqd9Y2v6pyGkSFXadT5qydf0tKWVrV3dEqSRtcO0Y8nnxiJ+kpFXI4Xyaj16Ma702p8/+HrQ65q4Gvv6NLz29u0csMOrd3Wlnq8prpSp46q1fknHa3jRwwNscJ41FgMgoV7M2UsPEZrhUeat+zUxXctTf3jNevu7dOy9a1atr5VNz60Vr+/7gKNrKkOocrsdW5t26OL7nhM/7bij1ox9weqHLx/KPWVirgcL5IRKibPfTCtVru64a35y1s0e/Gztl9r7+jUwlUbtXDVRo0fVasHZp0byt9sHGosFl0h7q2Q9O+itcITS1taNfWm37n6Z9ve0amJNzyg1vaOACpL17xlZ1qd91z+HfU+OU+t9/1EU+uNd8Zb2/Zo8twH1dmzL/D6SkVcjhepP1RsbdsTyuuXqhlNK7OesK3WbmsL5W82DjV6gWCRn7NFa0XRWts7dNEdj0kyuhOW/fyf9O5DP02dsC+ZOC7jOd29fbri18FmuvaOLl1819LU/XnTT9fFE46VJNVUV2h+45mqqa6UZISLmU1PB1pfqYjL8SIZtWYLFeVlgwKvp1Qsat6khas2SpKm1o/UmlsvUe+T89T75DytufUSjR9Vm/GcrW179KsnX6JGHxAs8kOo8MDsxc2SpPGjarVi7g80YcxRqea+muoK3d14ln571XkZz9vatkdLW1oDq/OeFevT3iFPP21M2tcrB++f1p+/bH2rNuzYHVh9pSIux8ui5k2aeMMD2tq2xzbsjD1ySGC1lJLOnn2a8+AaSdLV556sxVeflzY+4fgRQ7Vi7nTb38ntj69Te0cXNXqMYIFAdfbsSw1Wmt/4naz9h+c0jLRN8Otfd7s2XHHaO7pS7y4k452yXa2njz4y7f5tj/2777WVkjgcLxt27NbkuYt15YKnJEnLfv5PurvxLN9fF4ZNO99Xd2+faqorNefC8Vm3+/n3T7VtNdry1vt+licpHjV6iWCBQP35vQ8lGU2BNdUVObc96/gRGY+9k7giw28Prt2Sdr9ysH0zdnXlgWn3125rC61vfyCKw/Hy7Na31NnTp3nTT9erTTM0YcxRvr8m+u3Y/YEkacaU+pzbVQ7eX6cekxk+3/vQ/4boONToJYIFQnHM8EMdtxlx+CEBVGLP2oR+8tHDbLezO9kt/+NrvtRUyqJ8vMy5cLxevLNRM6c0xHIE/0Dh5vfv5jjyUxxq9AKXmyJQx48Yqt4n54VdRk7tHV2puSoKsY2rATwTh+MF4Zo5pUEzpzSEXUZOcajRS7RYILL27P044zG75m6vFdufaZ7wBsEJ63hBfOz+W2aXwvhRR9psGZ441OiEYIHIsg68Ky8bpLNP+Jrvr+tFf2bcRnEPBGEdL4iP5yyhf/yo2lAnUrMThxqdECwQWdZxDrOmBtOHve7Vt4veR0dn5rtn+Cus4wXx0NrekdHFee153wypGntxqNENggUiaWlLa9ocEqNrh5RUHyXyw/ECJ4uaN6Xdv/rckyO3HkccanSDYIHI6ezZpxlNK1P3a6ortWLuD0KsCFHG8QInG3bsTpuXZmr9yJzzSYQhDjW6RbBA5MxsejptRcjfX3cBTdrIiuMFuXT27NOP7lmeuj+6dojmN54ZYkWZ4lBjPggWiJRFzZu0bL3RV15eNkirbv5h7AYuITgcL3Ays+np1LiF0bVDIrkScRxqzAfBApGxYcfu1LTInCTghOMFTuYvb0kFz6iesONQY74IFoiE9o4unXvLw5LCP0l8KbFiaTHiOOAqTqJ0vCCamrfsTC1RHtUTdhxqLATBAqHr7Nmn6bc/qu7evkicJIYeUl7U82s8CCbILmrHC6Kntb1DF9+1VFJ0T9hxqLFQBAuEqrNnnybPfVBb2/ZE5iTxja8cUdTzR9eyPLZfoni8IFpa2zs08YYH1N3bF9kTdhxqLAbBAqG66eHntLVtj2qqKx1PEp09+3TY9/9VZd+d7WtNXz78YNfbbtixO+Oxk46u8bIcmETxeEF0dPbs0xW/XqHu3j6NH1XreMLesGO3yr47W5PnLqZGDxEsEJoZTSu1cNVGja4donV3XOr4zvP5V3al/hj9VDl4f02tH5n2mN38/dmcUudvfaUqqscLosHcmnXJxHFaMXe6YyvAoy++Kin76sVei0ONXmB1U4TCfJJw0wy4Ycfu1CRI1sGVzVt26pbfP596J/vDCWOLnnXxe6cckxqpLUnvZFntdMd7f0u7P7V+pO1S6ihO1I8XhMt6wr678SzH5yxq3pSakOrwg9PHVc1f3qIHmjervaNTo2uH6GffO0UTxhwVqRqjjGCBwC1taU39sWxt26MjLrw1r+ebB1e2d3Rp6k2/M93v1OzFz2rdq29rxdzpBdc4YcxRqqmuTF1bvvkt+6XQW9s70u43nnFcwa8Je3E4Xqw6e/Z5ti84S3aRSdLCVRvTZrB0Y0jVganPl7a0pq7UkIxjbupNv9O86acXFUC9rDHq6ApBoDbs2K2L7nisqH2MGPqPqc9XvPSa7TZrt7Vp/vKWol7n/iunpD7v7u3LWOSqvaMr7Z9DXOf1j7I4HS/tHV1a2tKqGx9aq5Ovus/2NW58aK2at+zMCKQo3PzlLXmfpK3M46oeem6r7TazFz9rO6bKDa9rjDqCBQJjnnugGF+sdJfcH2jeXNTrHD9iqK4+9+TU/RlNK1P/WNo7ujT99kdTXxtdO0T/47snFPV6SBe342XkpXfpojse0+2Pr8tYoTLp9sfXaepNv9PxM35TdJBB+jwQhSovG+T6iozkeId8BF1jFNAVgsB0dH6ctgJlocyD9nJdGprtn3s+5lw4Xl29fVq4aqO6e/t02k8XZmwzflStHph1bqz+8OMgjscLgrVj9wdF72PskemXh5989DCt3dZmu222sVa5+FFj1BEsEJjjRwxV75PzPN/nmlsv0Y/uWe7bieHuxrN0/klHq+mZl7W1bU/anP4/nnyizmkY6bAHFCJux4vXtcLZzCkNng+8nTmlQQce8HnNeXCNJ8HWjxqjjmCB2Dt+xFCtu+NS/erJl3T74+tSj5eXDfL0NRg/MTAEcbwg3i6ecKxOqavVzKan0lovDjqAY8QNxlhgQKgcvL/mXDg+bc6CU49h/gLY43iBk5rqiowrhZj8zh2CBQaUzp7+pksu/YQTjhfkYr5suLxskM4+4WshVhMfBAsMGEtbWlPXiY8fVUvXBXLieIGTmx5+LvX5rKkNDNB2iTEWGBDmL29JW374gVnnhlwRoozjBbl09uzTzKanU7PvXjJxXMkNwCwGwQKx1rxlp666/5nUCP+p9SM1v/FM3lnAFscLnMxf3qI7l7WkrggpdsbNUkSwQKwdNeRgdSUWmrr2vG/SnI2cOF7gZMTQf1R3b58umThOV06uZ+2fAhAsEGs11RV6/+Hrwy4DMcHxAicTxhzFnCRFYvAmAADwDMECAAB4hmABAAA8Q7AAAACeIVgAAADPECwAAIBnCBYAAMAzBAsAAOAZggUAAPAMwQIAAHiGYAEAADxDsAAAAJ4hWAAAAM8QLAAAgGcIFgAAwDMECwAA4BmCBQAA8AzBAgAAeIZgAQAAPEOwAAAAniFYAAAAzxAsAACAZwgWAADAMwQLAADgGYIFAADwDMECAAB4hmABAAA8Q7AAAACeIVgAAADPECwAAIBnCBYAAMAzBAsAAOAZggUAAPAMwQIAAHiGYAEAADxDsAAAAJ4hWAAAAM8QLAAAgGcIFgAAwDMECwAA4BmCBQAA8AzBAgAAeOZTYRcAT/1fSZ+uG3aoPveZ/cKuBRG1+4MufdDdqyFVB2rIFw4KuxxE1H/+1//W67s/0Gf3+wcdM/yLYZeDCHvtnQ7t+/t/S9J3JT1FsBhYPgm7AABAybpO0m28rR1YrpU0WNLGsAtB5I0TxwmcjZP0H5LeDrsQRNoXJA2TdFvYhQAAAAAAAAAAAAAAAAAAAAAAAAAAAAAAAAAAAAAAAAAAAAAAAAAAAAAAAAAAAAAAAAAAAAAAAAAAAAAAAAAAAAAAAAAAAAAAAAAAAAAAAAAAAAAAglQu6aKwi0DhPh12AQAAmHRLqpO0TQQMAADgkSckfSICBgAA8EC5jFDxiQgYAADAA19Sf7AgYAAAgKJ9U5nhgoABAAAKNl/24YKAAQAACpIczEnAAAAARbMO5iRgRNSnwi4AgZkjaW7YRQBAQF6RdI+k34ZdSKlhgiwAwEB0jKT/JaMLpTzkWkrKfmEXAACAD95Rf4tFd8i1AACAiCmX9IKcx1i0S5ohWikAAEAO/0sECgAA4IEZIlAAAAAPfFNSlwgUAACgSF9SZqggUAAAgLxZB2sSKAAAQMGSgzUJFAAAoCgzRKCILSbIAgBEyZdkTGg1SkxsBQAAAAAAAAAAAAAAAAAAAAAAAAAoGddI6pQxGdASSVXhlpNTvdKnV14S4GtXJV5vQQCvVSdptYzvsU3SpQG8ptkCGccFAAB5sZ6oP5FxQouiOvUHoKBrrZO0KfGam+Rv+KpS5vf5iYIJNEnm73VYgK8LAIi5a5R5AusMtSJ7dqEiqGBhfm2/Q4VktE5kW6J7ms+vnVSl/nDRKeNnAACAo2EK952xG5NkHyqC6Aoxh4pOBfPu3S7sJW+bAnj9pCoZ3TCECwBAXiap/wSyQNEZY1El6RalBx7ridbPcQDWVpJJPr6WWa4Wi08CqiGpzvS6nYrOsQEAQF6mqT/sbJJxgrMbD+JXsDC/Ww963Im5GyLsYCGlt6AE0RUEAIDnNsk4mZvHFAQZLJJXZCRvQQ9grJJ9C00YwcI6mPSWEGoAAMBzQQULa1dEmGNO6pV+Ug/y8loz67iP+pDqAADAM0EEC7tLPcM+iZpbT4K6KsSqSuk/k7aQ6gAAmNTLaEa2NrO3JR4Ps+96mIx3w25OpMNkvIs3j0FIfh+rZbzj96PrIIhgYe1+KOQEOk3Gz9L689kk4/ecz9UV5sGTbsd5VJlqMIeksm+IwQAABrNJREFUYn831nEfYYUcACh5yRkbc430T57ErOHC7mRqvVlPONYTWrZ333UyTg7Wk2muYDHNRT1+jQXwO1gUe+ltvXL/7M03NzOcmi+zdTto0jyLaq5b8uqf5O/eTauMtTuEVgsACIF1HoRr1P+O0e5EaR0Y5yZYWPvdrS0i5tswF/vMdpKZpPSTyiTL16zvaL2e98DvYGF3mafbd+XWwNVmeW6dMsNltrBQr/Sf5eos25nZXUmyROm/S+vvqFP9QchNsDD//mm1AIAQWOdBsPsnbHeysTJfeukURJLMJ+FkE3idzdfyCRbmk1K25nTz9+P12AS/g4XdJZ5uwpH1hJtrvgdr65Dd77ve9DU3J267UJFtbZFs04W7+V3ZteiENZgUAEqOdR6ET7JsZzfLYrb92Z347GZENG+b68RUL/summwnGacak6+dPHF5vXCWn8HCOjjR6fs0P896os5Vk93rFPs9mCcRSwbJfLbPJwTaHX8AgABYm8az/bN3Gywk9+Ei+a7Yzbtdu5O1m2CRa9/J793rgZV+Bgu7fbuZPtuu+8SplcMa5oo5Odu1Ijj93u26NNwGi0JbdYDAfDrsAgCfTDZ93iXptx7sc6+kb0vabHm8QtILMv7BL5B0maQL5H0zdZfp80cSr2V3Qloi6VOSfunx6/vpBJvH9rp43iU2j213eM5Wy/0KFT5d+MU2j210eM7HBb6WZP8z+WoR+wM8R7DAQLZZxgm+Ut6d5HOFi1fkX6iQzT4vk9Si/hYZvy4zjbKxHu3n6wU+73ybx94uppACHBHw6wE5ESwwUE2TdKyyn+CHyejrvq6AfWcLF5LRqvBGAft0Y3aW15SkCZKaJO2SETJKIWB42QVwSoHPG+5hDcCAQLBAqUkOmNwl492mU7N1Nslw8ajlcXO3iNeSr3mt0rtFrCbICCADve99cNgFAMhEsECpSF4y2iLpdBndFbWSni9in3tlP/DP73DxS0lHKnfAqJC0zIfXj5IeD/flZfcFq4+ipBEsMNDVyRhJ/4iMZutmGSflYsdAJK8QuUxSo6R7LV9Phgu/TjLJgFEpIyTtstlmuAb2BEpOgzTz8Y6H+zrOw30BsUOwwEBWJ+Pknhzgt0vS9+XuaoNcqmSMYxguqUHSfZIul/2ATjezNrqRvBwz21UgtTIChrUFIy4D+z4q8HnZxpzk67UCn9ds89iZxRQCxB3BAgNVlYxQUWF67H4VHyqGqT9UfEvSetPX7AZ0jpX7xavcyHXZ7BJJ3/HwtYL0eoHPW2jzmNOcENaBml2S/lDg6z9h89hlLmoolF1Ifcmn1wIAmNhNnGSdfjvbhFfJr1mvrKhX/yyP2abyzrbPbItpuZ0gyzwRk9OkVG6mli6E3cROXk7CVcisknYzb2b73Uj2E1oV8z1km6LbbkbWpHwmRbOym52UMR0AEAC7GTU71f8P3LrQlPWf/DXqXz1ykjLXmFgt+xPHtBz7NXeLJBcjs5ve2bxQmpmb2R2tgarYy07rEvtcoOwn0GsS30uxr2U3vbkb1hN1Z45a3KwNky+7EGsOOeZa7BZDcxss7EKRF/UDAFzI9c/eehK3hgZzK4PTfswnBLcrodqFnmw3c3ixntgXmL5eZVNrsa0Jbr6fQt9527FbEt7t/qYp/efTmXjMHOTcrm5aiGzHkN3NLngWurqp1+vBAACyyNZEbX03KRknnWwrTuazEqmbE/Fq5RcszPvP53m5ugPcCjpY2P3O8jlxJq8AclPnEnnfheAmzN4i+4XQ3Pzc7Fq3SmEiNACIjGSzs/lktUnGu0vrP+Q6GSf9T2R0gUT1Ms1hMk5gS9Rfr9P3FifW8FTIZcHJritryFgt4+Ts58RhwxKvbV5Zt02Z67oUEiysq/VmG7cDAAASrK0WnRqYgxPzDRZ1lu1zjSMBQsXlpgCiZK+MOUGSKiSdFlItfikkKFm7hH6h4Bc7AwAgtszdPG0O28ZNvpebWq8G4UoQAADyZO0S8XK+jLDlGyzMV5wM1K4hAAB8V6f+cJFrwqm4ySdYmLcdSD8DAABCYQ4XXs47ESa3wcLcakOoAADAI+Zw4eW6K0GrV/aZWdtkdPeYJzxLbkeoAADAY3Xqn8chjvM3WOccyXWT+mcJ3SRCBWJmv7ALAAAXtks6TtK8sAsJyAuJj1eo+BV5AQAAAAAAAAAAAAAAAAAAAAAAAAAAAAAAAAAAAAAAAAAAAAAAAAAAAAAAAAAAAAAAAAAAAAAAAAAAAAAAAAAAAAAAAAAAAAAAAAAAAAAAAAAAAAAAAKv/D5g+n463zx58AAAAAElFTkSuQmCC)"
      ],
      "metadata": {
        "id": "FhN5AwBe5IEk"
      }
    },
    {
      "cell_type": "code",
      "source": [
        "arr2d"
      ],
      "metadata": {
        "colab": {
          "base_uri": "https://localhost:8080/"
        },
        "id": "bvuHWzuF5BvC",
        "outputId": "1caa4eba-d363-48bb-9f45-78c6feda28dc"
      },
      "execution_count": 26,
      "outputs": [
        {
          "output_type": "execute_result",
          "data": {
            "text/plain": [
              "array([[1, 2, 3],\n",
              "       [4, 5, 6],\n",
              "       [7, 8, 9]])"
            ]
          },
          "metadata": {},
          "execution_count": 26
        }
      ]
    },
    {
      "cell_type": "code",
      "source": [
        "arr2d [0,0]"
      ],
      "metadata": {
        "colab": {
          "base_uri": "https://localhost:8080/"
        },
        "id": "s2TJJFik5ZPt",
        "outputId": "c3e74e2a-8be6-4547-d0ac-13c05c50ca05"
      },
      "execution_count": 27,
      "outputs": [
        {
          "output_type": "execute_result",
          "data": {
            "text/plain": [
              "1"
            ]
          },
          "metadata": {},
          "execution_count": 27
        }
      ]
    },
    {
      "cell_type": "code",
      "source": [
        "arr2d[1,1]"
      ],
      "metadata": {
        "colab": {
          "base_uri": "https://localhost:8080/"
        },
        "id": "ujDhHbYZ5daP",
        "outputId": "f13bb939-55c3-4551-8408-421c8bdcb31d"
      },
      "execution_count": 28,
      "outputs": [
        {
          "output_type": "execute_result",
          "data": {
            "text/plain": [
              "5"
            ]
          },
          "metadata": {},
          "execution_count": 28
        }
      ]
    },
    {
      "cell_type": "code",
      "source": [
        "arr2d[2,2]"
      ],
      "metadata": {
        "colab": {
          "base_uri": "https://localhost:8080/"
        },
        "id": "z3CPX7xb5gq6",
        "outputId": "7d69b660-44d9-401b-aeec-492d95f7b00a"
      },
      "execution_count": 29,
      "outputs": [
        {
          "output_type": "execute_result",
          "data": {
            "text/plain": [
              "9"
            ]
          },
          "metadata": {},
          "execution_count": 29
        }
      ]
    },
    {
      "cell_type": "markdown",
      "source": [
        "# 2 o'lchamli massivlarning bir nechta elementini kesib olish uchun quyidagi usuldan foydalaniladi"
      ],
      "metadata": {
        "id": "d9xw4jR55rob"
      }
    },
    {
      "cell_type": "code",
      "source": [
        "slc_arr2d = arr2d[2,1:]"
      ],
      "metadata": {
        "id": "NsP-U4mu5jm8"
      },
      "execution_count": 30,
      "outputs": []
    },
    {
      "cell_type": "code",
      "source": [
        "slc_arr2d"
      ],
      "metadata": {
        "colab": {
          "base_uri": "https://localhost:8080/"
        },
        "id": "N_yHkqwV55kt",
        "outputId": "b6f9a583-649c-4dd1-d3e1-5c74c3a3e562"
      },
      "execution_count": 31,
      "outputs": [
        {
          "output_type": "execute_result",
          "data": {
            "text/plain": [
              "array([8, 9])"
            ]
          },
          "metadata": {},
          "execution_count": 31
        }
      ]
    },
    {
      "cell_type": "markdown",
      "source": [
        "![image.png](data:image/png;base64,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)"
      ],
      "metadata": {
        "id": "GV5ZbP1g6twV"
      }
    },
    {
      "cell_type": "code",
      "source": [
        "arr2d"
      ],
      "metadata": {
        "colab": {
          "base_uri": "https://localhost:8080/"
        },
        "id": "2Pmf8-OD57go",
        "outputId": "880a7989-4d93-4b96-d693-d3c024dea3ba"
      },
      "execution_count": 32,
      "outputs": [
        {
          "output_type": "execute_result",
          "data": {
            "text/plain": [
              "array([[1, 2, 3],\n",
              "       [4, 5, 6],\n",
              "       [7, 8, 9]])"
            ]
          },
          "metadata": {},
          "execution_count": 32
        }
      ]
    },
    {
      "cell_type": "code",
      "source": [
        "arr2d[:2, 1:]"
      ],
      "metadata": {
        "colab": {
          "base_uri": "https://localhost:8080/"
        },
        "id": "SrRmt-ig6dDT",
        "outputId": "30aa380c-15ff-4d66-94c6-9938f3b7061b"
      },
      "execution_count": 34,
      "outputs": [
        {
          "output_type": "execute_result",
          "data": {
            "text/plain": [
              "array([[2, 3],\n",
              "       [5, 6]])"
            ]
          },
          "metadata": {},
          "execution_count": 34
        }
      ]
    },
    {
      "cell_type": "code",
      "source": [
        "arr2d[1:, :2]"
      ],
      "metadata": {
        "colab": {
          "base_uri": "https://localhost:8080/"
        },
        "id": "ujzHO9o774kK",
        "outputId": "3724cf2d-fd21-421f-e8b2-837e847f8bde"
      },
      "execution_count": 35,
      "outputs": [
        {
          "output_type": "execute_result",
          "data": {
            "text/plain": [
              "array([[4, 5],\n",
              "       [7, 8]])"
            ]
          },
          "metadata": {},
          "execution_count": 35
        }
      ]
    },
    {
      "cell_type": "code",
      "source": [
        "arr2d[1:, 1:]"
      ],
      "metadata": {
        "colab": {
          "base_uri": "https://localhost:8080/"
        },
        "id": "bAbs5O3H8FAr",
        "outputId": "cc754b82-e6a3-48dc-8e52-f8ea59bdb0f9"
      },
      "execution_count": 36,
      "outputs": [
        {
          "output_type": "execute_result",
          "data": {
            "text/plain": [
              "array([[5, 6],\n",
              "       [8, 9]])"
            ]
          },
          "metadata": {},
          "execution_count": 36
        }
      ]
    },
    {
      "cell_type": "code",
      "source": [
        "arr2d[:2, :2]"
      ],
      "metadata": {
        "colab": {
          "base_uri": "https://localhost:8080/"
        },
        "id": "jZrJW5br8MM6",
        "outputId": "b1812f55-a8ca-49e2-e624-b0815f6e830f"
      },
      "execution_count": 37,
      "outputs": [
        {
          "output_type": "execute_result",
          "data": {
            "text/plain": [
              "array([[1, 2],\n",
              "       [4, 5]])"
            ]
          },
          "metadata": {},
          "execution_count": 37
        }
      ]
    },
    {
      "cell_type": "code",
      "source": [
        "arr2d[2, :]"
      ],
      "metadata": {
        "colab": {
          "base_uri": "https://localhost:8080/"
        },
        "id": "UAaq5cMl8VyD",
        "outputId": "22ca0c24-2283-4466-bfae-484f187b3fce"
      },
      "execution_count": 38,
      "outputs": [
        {
          "output_type": "execute_result",
          "data": {
            "text/plain": [
              "array([7, 8, 9])"
            ]
          },
          "metadata": {},
          "execution_count": 38
        }
      ]
    },
    {
      "cell_type": "code",
      "source": [
        "arr2d"
      ],
      "metadata": {
        "colab": {
          "base_uri": "https://localhost:8080/"
        },
        "id": "JFSBGHwL8d2M",
        "outputId": "aa27d8f4-57be-42a5-d7a5-885a62c891c6"
      },
      "execution_count": 39,
      "outputs": [
        {
          "output_type": "execute_result",
          "data": {
            "text/plain": [
              "array([[1, 2, 3],\n",
              "       [4, 5, 6],\n",
              "       [7, 8, 9]])"
            ]
          },
          "metadata": {},
          "execution_count": 39
        }
      ]
    },
    {
      "cell_type": "code",
      "source": [
        "arr2d[:, 1]"
      ],
      "metadata": {
        "colab": {
          "base_uri": "https://localhost:8080/"
        },
        "id": "BEDsviB08gaY",
        "outputId": "f80a8262-80dd-46c1-c669-848a2a6d2c1f"
      },
      "execution_count": 40,
      "outputs": [
        {
          "output_type": "execute_result",
          "data": {
            "text/plain": [
              "array([2, 5, 8])"
            ]
          },
          "metadata": {},
          "execution_count": 40
        }
      ]
    },
    {
      "cell_type": "code",
      "source": [
        "arr2d[1, :2]"
      ],
      "metadata": {
        "colab": {
          "base_uri": "https://localhost:8080/"
        },
        "id": "voQirW_O8q4A",
        "outputId": "65173166-5bd3-4d70-91bc-bdacb527ad6c"
      },
      "execution_count": 41,
      "outputs": [
        {
          "output_type": "execute_result",
          "data": {
            "text/plain": [
              "array([4, 5])"
            ]
          },
          "metadata": {},
          "execution_count": 41
        }
      ]
    },
    {
      "cell_type": "markdown",
      "source": [
        "# 3 o'lchamli massivlarda indekslash va kesib olish asoslari\n",
        "\n",
        "![image.png](data:image/png;base64,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)"
      ],
      "metadata": {
        "id": "XXNSM5PT8_SX"
      }
    },
    {
      "cell_type": "code",
      "source": [
        "# 3D array (3 o'lchamli massivlar)\n",
        "\n",
        "arr3d = np.array([[[1, 2, 3],\n",
        "                  [4, 5, 6],\n",
        "                  [7, 8, 9]],\n",
        "                 [[10, 11, 12],\n",
        "                  [13, 14, 15],\n",
        "                   [16, 17, 18]],\n",
        "                  [[19, 20, 21],\n",
        "                  [22, 23, 24],\n",
        "                   [25, 26, 27]]])"
      ],
      "metadata": {
        "id": "UBLvM5Fp81hR"
      },
      "execution_count": 45,
      "outputs": []
    },
    {
      "cell_type": "code",
      "source": [
        "arr3d"
      ],
      "metadata": {
        "colab": {
          "base_uri": "https://localhost:8080/"
        },
        "id": "96Vemc1D-Vzz",
        "outputId": "d31c113a-bff6-47a7-d195-c78f689bb7c0"
      },
      "execution_count": 46,
      "outputs": [
        {
          "output_type": "execute_result",
          "data": {
            "text/plain": [
              "array([[[ 1,  2,  3],\n",
              "        [ 4,  5,  6],\n",
              "        [ 7,  8,  9]],\n",
              "\n",
              "       [[10, 11, 12],\n",
              "        [13, 14, 15],\n",
              "        [16, 17, 18]],\n",
              "\n",
              "       [[19, 20, 21],\n",
              "        [22, 23, 24],\n",
              "        [25, 26, 27]]])"
            ]
          },
          "metadata": {},
          "execution_count": 46
        }
      ]
    },
    {
      "cell_type": "code",
      "source": [
        "arr3d[0]"
      ],
      "metadata": {
        "colab": {
          "base_uri": "https://localhost:8080/"
        },
        "id": "qaiyG0WX-rYc",
        "outputId": "03dc3038-c125-498b-c06f-5bab76b56f5c"
      },
      "execution_count": 47,
      "outputs": [
        {
          "output_type": "execute_result",
          "data": {
            "text/plain": [
              "array([[1, 2, 3],\n",
              "       [4, 5, 6],\n",
              "       [7, 8, 9]])"
            ]
          },
          "metadata": {},
          "execution_count": 47
        }
      ]
    },
    {
      "cell_type": "code",
      "source": [
        "arr3d[0][0]"
      ],
      "metadata": {
        "colab": {
          "base_uri": "https://localhost:8080/"
        },
        "id": "VMniy6AO-_wo",
        "outputId": "50d99280-fb3b-408d-a3d1-88e450f1800d"
      },
      "execution_count": 49,
      "outputs": [
        {
          "output_type": "execute_result",
          "data": {
            "text/plain": [
              "array([1, 2, 3])"
            ]
          },
          "metadata": {},
          "execution_count": 49
        }
      ]
    },
    {
      "cell_type": "code",
      "source": [
        "arr3d[0][0,0]"
      ],
      "metadata": {
        "colab": {
          "base_uri": "https://localhost:8080/"
        },
        "id": "RdZ50gDH_F7q",
        "outputId": "5877064c-efe3-42e3-9691-c8d5eaacef2b"
      },
      "execution_count": 50,
      "outputs": [
        {
          "output_type": "execute_result",
          "data": {
            "text/plain": [
              "1"
            ]
          },
          "metadata": {},
          "execution_count": 50
        }
      ]
    },
    {
      "cell_type": "code",
      "source": [
        "arr3d[2][2,2]"
      ],
      "metadata": {
        "colab": {
          "base_uri": "https://localhost:8080/"
        },
        "id": "lgjfJr8L_R09",
        "outputId": "d7b07669-4da0-43c6-f73c-3f88fe369d07"
      },
      "execution_count": 51,
      "outputs": [
        {
          "output_type": "execute_result",
          "data": {
            "text/plain": [
              "27"
            ]
          },
          "metadata": {},
          "execution_count": 51
        }
      ]
    },
    {
      "cell_type": "code",
      "source": [
        "arr3d[1][1, 1:]"
      ],
      "metadata": {
        "colab": {
          "base_uri": "https://localhost:8080/"
        },
        "id": "FSn_r9jo_YSY",
        "outputId": "337f6664-fd46-4a1d-ecdd-9665d15e3240"
      },
      "execution_count": 54,
      "outputs": [
        {
          "output_type": "execute_result",
          "data": {
            "text/plain": [
              "array([14, 15])"
            ]
          },
          "metadata": {},
          "execution_count": 54
        }
      ]
    },
    {
      "cell_type": "code",
      "source": [],
      "metadata": {
        "id": "CvJ7-QHP_wt5"
      },
      "execution_count": null,
      "outputs": []
    }
  ]
}