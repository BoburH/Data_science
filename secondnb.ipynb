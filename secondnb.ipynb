{
  "nbformat": 4,
  "nbformat_minor": 0,
  "metadata": {
    "colab": {
      "provenance": [],
      "gpuType": "T4",
      "authorship_tag": "ABX9TyO0huazNURmzE8uvJoFyAmM",
      "include_colab_link": true
    },
    "kernelspec": {
      "name": "python3",
      "display_name": "Python 3"
    },
    "language_info": {
      "name": "python"
    },
    "accelerator": "GPU"
  },
  "cells": [
    {
      "cell_type": "markdown",
      "metadata": {
        "id": "view-in-github",
        "colab_type": "text"
      },
      "source": [
        "<a href=\"https://colab.research.google.com/github/BoburH/Data_science/blob/main/secondnb.ipynb\" target=\"_parent\"><img src=\"https://colab.research.google.com/assets/colab-badge.svg\" alt=\"Open In Colab\"/></a>"
      ]
    },
    {
      "cell_type": "code",
      "execution_count": null,
      "metadata": {
        "id": "ZuqGsdM3vpHv"
      },
      "outputs": [],
      "source": [
        "import numpy as np\n",
        "import pandas as pd\n",
        "import sklearn\n",
        "import matplotlib.pyplot as plt\n",
        "import seaborn as sns\n",
        "import torch\n",
        "import tensorflow as tf\n",
        "import keras"
      ]
    },
    {
      "cell_type": "code",
      "source": [
        "np.__version__\n",
        "\n"
      ],
      "metadata": {
        "colab": {
          "base_uri": "https://localhost:8080/",
          "height": 36
        },
        "id": "DjrehS6swXeT",
        "outputId": "3a6fe48a-e7c0-48be-9be4-793c23812365"
      },
      "execution_count": null,
      "outputs": [
        {
          "output_type": "execute_result",
          "data": {
            "text/plain": [
              "'1.22.4'"
            ],
            "application/vnd.google.colaboratory.intrinsic+json": {
              "type": "string"
            }
          },
          "metadata": {},
          "execution_count": 10
        }
      ]
    },
    {
      "cell_type": "code",
      "source": [
        "pd.__version__\n"
      ],
      "metadata": {
        "colab": {
          "base_uri": "https://localhost:8080/",
          "height": 36
        },
        "id": "un1ArfjZxI_1",
        "outputId": "3ad953eb-3475-40cd-8a72-960ddda7cbe7"
      },
      "execution_count": null,
      "outputs": [
        {
          "output_type": "execute_result",
          "data": {
            "text/plain": [
              "'1.5.3'"
            ],
            "application/vnd.google.colaboratory.intrinsic+json": {
              "type": "string"
            }
          },
          "metadata": {},
          "execution_count": 11
        }
      ]
    },
    {
      "cell_type": "code",
      "source": [
        "sklearn.__version__\n"
      ],
      "metadata": {
        "colab": {
          "base_uri": "https://localhost:8080/",
          "height": 36
        },
        "id": "oS6hBOVJx5rJ",
        "outputId": "1e114a03-acca-499d-d2b2-f39f8a67a73b"
      },
      "execution_count": null,
      "outputs": [
        {
          "output_type": "execute_result",
          "data": {
            "text/plain": [
              "'1.2.2'"
            ],
            "application/vnd.google.colaboratory.intrinsic+json": {
              "type": "string"
            }
          },
          "metadata": {},
          "execution_count": 12
        }
      ]
    },
    {
      "cell_type": "code",
      "source": [
        "sns.__version__\n"
      ],
      "metadata": {
        "colab": {
          "base_uri": "https://localhost:8080/",
          "height": 36
        },
        "id": "BTuxyycax8bB",
        "outputId": "e0f39eb4-c46a-4bf1-f3a1-85964a9a7e65"
      },
      "execution_count": null,
      "outputs": [
        {
          "output_type": "execute_result",
          "data": {
            "text/plain": [
              "'0.12.2'"
            ],
            "application/vnd.google.colaboratory.intrinsic+json": {
              "type": "string"
            }
          },
          "metadata": {},
          "execution_count": 13
        }
      ]
    },
    {
      "cell_type": "code",
      "source": [
        "torch.__version__\n"
      ],
      "metadata": {
        "colab": {
          "base_uri": "https://localhost:8080/",
          "height": 36
        },
        "id": "-X6juAONyAWZ",
        "outputId": "59ef59a8-e273-4102-9c82-3e067e7c91f0"
      },
      "execution_count": null,
      "outputs": [
        {
          "output_type": "execute_result",
          "data": {
            "text/plain": [
              "'2.0.1+cu118'"
            ],
            "application/vnd.google.colaboratory.intrinsic+json": {
              "type": "string"
            }
          },
          "metadata": {},
          "execution_count": 14
        }
      ]
    },
    {
      "cell_type": "code",
      "source": [
        "tf.__version__\n"
      ],
      "metadata": {
        "colab": {
          "base_uri": "https://localhost:8080/",
          "height": 36
        },
        "id": "6eci9lgoyCVy",
        "outputId": "6d9f9f64-e22c-48b5-e899-c53142c8c68d"
      },
      "execution_count": null,
      "outputs": [
        {
          "output_type": "execute_result",
          "data": {
            "text/plain": [
              "'2.12.0'"
            ],
            "application/vnd.google.colaboratory.intrinsic+json": {
              "type": "string"
            }
          },
          "metadata": {},
          "execution_count": 15
        }
      ]
    },
    {
      "cell_type": "code",
      "source": [
        "keras.__version__"
      ],
      "metadata": {
        "colab": {
          "base_uri": "https://localhost:8080/",
          "height": 36
        },
        "id": "S0IXhtJGyE0d",
        "outputId": "9e8b00f9-36af-48ad-c4d9-bdb1df44fc2c"
      },
      "execution_count": null,
      "outputs": [
        {
          "output_type": "execute_result",
          "data": {
            "text/plain": [
              "'2.12.0'"
            ],
            "application/vnd.google.colaboratory.intrinsic+json": {
              "type": "string"
            }
          },
          "metadata": {},
          "execution_count": 16
        }
      ]
    },
    {
      "cell_type": "code",
      "source": [
        "import torch\n",
        "torch.cuda.is_available()"
      ],
      "metadata": {
        "id": "YJCFQDpLyF0s",
        "colab": {
          "base_uri": "https://localhost:8080/"
        },
        "outputId": "e7840677-0a5b-4279-f57d-c2cd91435720"
      },
      "execution_count": 1,
      "outputs": [
        {
          "output_type": "execute_result",
          "data": {
            "text/plain": [
              "True"
            ]
          },
          "metadata": {},
          "execution_count": 1
        }
      ]
    },
    {
      "cell_type": "code",
      "source": [
        "! ls\n"
      ],
      "metadata": {
        "colab": {
          "base_uri": "https://localhost:8080/"
        },
        "id": "29y97sYIy8JS",
        "outputId": "e961279b-deba-4a3e-b50d-090d19625725"
      },
      "execution_count": 2,
      "outputs": [
        {
          "output_type": "stream",
          "name": "stdout",
          "text": [
            "sample_data\n"
          ]
        }
      ]
    },
    {
      "cell_type": "code",
      "source": [
        "import pandas as pd\n",
        "files = pd.read_csv('./My folder/sample.csv')\n",
        "\n",
        "files.head()"
      ],
      "metadata": {
        "colab": {
          "base_uri": "https://localhost:8080/",
          "height": 374
        },
        "id": "3svTI7VszOTr",
        "outputId": "88c7c167-86a3-477c-d90c-8a81a817c46f"
      },
      "execution_count": 6,
      "outputs": [
        {
          "output_type": "execute_result",
          "data": {
            "text/plain": [
              "           InventoryId  Store  Brand                  Description   Size  \\\n",
              "0   1_HARDERSFIELD_126    1.0    126             Grey Goose Vodka  Liter   \n",
              "1  1_HARDERSFIELD_2184    1.0   2184      Bonnie Rose Orange Peel  750mL   \n",
              "2  1_HARDERSFIELD_3139    1.0   3139          Grey Goose Le Melon  750mL   \n",
              "3  1_HARDERSFIELD_3344    1.0   3344          Bombay Sapphire Gin  750mL   \n",
              "4  1_HARDERSFIELD_4066    1.0   4066  Bacardi Oakheart Spiced Rum  1.75L   \n",
              "\n",
              "   VendorNumber                   VendorName  PONumber     PODate  \\\n",
              "0           480  BACARDI USA INC                  5540  6/22/2015   \n",
              "1           480  BACARDI USA INC                  5692   7/3/2015   \n",
              "2           480  BACARDI USA INC                  5692   7/3/2015   \n",
              "3           480  BACARDI USA INC                  5692   7/3/2015   \n",
              "4           480  BACARDI USA INC                  5692   7/3/2015   \n",
              "\n",
              "  ReceivingDate InvoiceDate    PayDate  PurchasePrice  Quantity  Dollars  \\\n",
              "0      7/3/2015    7/8/2015  8/20/2015          20.14       6.0   120.84   \n",
              "1     7/10/2015   7/19/2015  8/19/2015          11.36       4.0    45.44   \n",
              "2     7/10/2015   7/19/2015  8/19/2015          17.64       2.0    35.28   \n",
              "3      7/8/2015   7/19/2015  8/19/2015          14.49      11.0   159.39   \n",
              "4     7/12/2015   7/19/2015  8/19/2015          12.85       2.0    25.70   \n",
              "\n",
              "   Classification          City  \n",
              "0               1  HARDERSFIELD  \n",
              "1               1  HARDERSFIELD  \n",
              "2               1  HARDERSFIELD  \n",
              "3               1  HARDERSFIELD  \n",
              "4               1  HARDERSFIELD  "
            ],
            "text/html": [
              "\n",
              "\n",
              "  <div id=\"df-689b5083-090b-45ed-a3c7-93e764bbcad6\">\n",
              "    <div class=\"colab-df-container\">\n",
              "      <div>\n",
              "<style scoped>\n",
              "    .dataframe tbody tr th:only-of-type {\n",
              "        vertical-align: middle;\n",
              "    }\n",
              "\n",
              "    .dataframe tbody tr th {\n",
              "        vertical-align: top;\n",
              "    }\n",
              "\n",
              "    .dataframe thead th {\n",
              "        text-align: right;\n",
              "    }\n",
              "</style>\n",
              "<table border=\"1\" class=\"dataframe\">\n",
              "  <thead>\n",
              "    <tr style=\"text-align: right;\">\n",
              "      <th></th>\n",
              "      <th>InventoryId</th>\n",
              "      <th>Store</th>\n",
              "      <th>Brand</th>\n",
              "      <th>Description</th>\n",
              "      <th>Size</th>\n",
              "      <th>VendorNumber</th>\n",
              "      <th>VendorName</th>\n",
              "      <th>PONumber</th>\n",
              "      <th>PODate</th>\n",
              "      <th>ReceivingDate</th>\n",
              "      <th>InvoiceDate</th>\n",
              "      <th>PayDate</th>\n",
              "      <th>PurchasePrice</th>\n",
              "      <th>Quantity</th>\n",
              "      <th>Dollars</th>\n",
              "      <th>Classification</th>\n",
              "      <th>City</th>\n",
              "    </tr>\n",
              "  </thead>\n",
              "  <tbody>\n",
              "    <tr>\n",
              "      <th>0</th>\n",
              "      <td>1_HARDERSFIELD_126</td>\n",
              "      <td>1.0</td>\n",
              "      <td>126</td>\n",
              "      <td>Grey Goose Vodka</td>\n",
              "      <td>Liter</td>\n",
              "      <td>480</td>\n",
              "      <td>BACARDI USA INC</td>\n",
              "      <td>5540</td>\n",
              "      <td>6/22/2015</td>\n",
              "      <td>7/3/2015</td>\n",
              "      <td>7/8/2015</td>\n",
              "      <td>8/20/2015</td>\n",
              "      <td>20.14</td>\n",
              "      <td>6.0</td>\n",
              "      <td>120.84</td>\n",
              "      <td>1</td>\n",
              "      <td>HARDERSFIELD</td>\n",
              "    </tr>\n",
              "    <tr>\n",
              "      <th>1</th>\n",
              "      <td>1_HARDERSFIELD_2184</td>\n",
              "      <td>1.0</td>\n",
              "      <td>2184</td>\n",
              "      <td>Bonnie Rose Orange Peel</td>\n",
              "      <td>750mL</td>\n",
              "      <td>480</td>\n",
              "      <td>BACARDI USA INC</td>\n",
              "      <td>5692</td>\n",
              "      <td>7/3/2015</td>\n",
              "      <td>7/10/2015</td>\n",
              "      <td>7/19/2015</td>\n",
              "      <td>8/19/2015</td>\n",
              "      <td>11.36</td>\n",
              "      <td>4.0</td>\n",
              "      <td>45.44</td>\n",
              "      <td>1</td>\n",
              "      <td>HARDERSFIELD</td>\n",
              "    </tr>\n",
              "    <tr>\n",
              "      <th>2</th>\n",
              "      <td>1_HARDERSFIELD_3139</td>\n",
              "      <td>1.0</td>\n",
              "      <td>3139</td>\n",
              "      <td>Grey Goose Le Melon</td>\n",
              "      <td>750mL</td>\n",
              "      <td>480</td>\n",
              "      <td>BACARDI USA INC</td>\n",
              "      <td>5692</td>\n",
              "      <td>7/3/2015</td>\n",
              "      <td>7/10/2015</td>\n",
              "      <td>7/19/2015</td>\n",
              "      <td>8/19/2015</td>\n",
              "      <td>17.64</td>\n",
              "      <td>2.0</td>\n",
              "      <td>35.28</td>\n",
              "      <td>1</td>\n",
              "      <td>HARDERSFIELD</td>\n",
              "    </tr>\n",
              "    <tr>\n",
              "      <th>3</th>\n",
              "      <td>1_HARDERSFIELD_3344</td>\n",
              "      <td>1.0</td>\n",
              "      <td>3344</td>\n",
              "      <td>Bombay Sapphire Gin</td>\n",
              "      <td>750mL</td>\n",
              "      <td>480</td>\n",
              "      <td>BACARDI USA INC</td>\n",
              "      <td>5692</td>\n",
              "      <td>7/3/2015</td>\n",
              "      <td>7/8/2015</td>\n",
              "      <td>7/19/2015</td>\n",
              "      <td>8/19/2015</td>\n",
              "      <td>14.49</td>\n",
              "      <td>11.0</td>\n",
              "      <td>159.39</td>\n",
              "      <td>1</td>\n",
              "      <td>HARDERSFIELD</td>\n",
              "    </tr>\n",
              "    <tr>\n",
              "      <th>4</th>\n",
              "      <td>1_HARDERSFIELD_4066</td>\n",
              "      <td>1.0</td>\n",
              "      <td>4066</td>\n",
              "      <td>Bacardi Oakheart Spiced Rum</td>\n",
              "      <td>1.75L</td>\n",
              "      <td>480</td>\n",
              "      <td>BACARDI USA INC</td>\n",
              "      <td>5692</td>\n",
              "      <td>7/3/2015</td>\n",
              "      <td>7/12/2015</td>\n",
              "      <td>7/19/2015</td>\n",
              "      <td>8/19/2015</td>\n",
              "      <td>12.85</td>\n",
              "      <td>2.0</td>\n",
              "      <td>25.70</td>\n",
              "      <td>1</td>\n",
              "      <td>HARDERSFIELD</td>\n",
              "    </tr>\n",
              "  </tbody>\n",
              "</table>\n",
              "</div>\n",
              "      <button class=\"colab-df-convert\" onclick=\"convertToInteractive('df-689b5083-090b-45ed-a3c7-93e764bbcad6')\"\n",
              "              title=\"Convert this dataframe to an interactive table.\"\n",
              "              style=\"display:none;\">\n",
              "\n",
              "  <svg xmlns=\"http://www.w3.org/2000/svg\" height=\"24px\"viewBox=\"0 0 24 24\"\n",
              "       width=\"24px\">\n",
              "    <path d=\"M0 0h24v24H0V0z\" fill=\"none\"/>\n",
              "    <path d=\"M18.56 5.44l.94 2.06.94-2.06 2.06-.94-2.06-.94-.94-2.06-.94 2.06-2.06.94zm-11 1L8.5 8.5l.94-2.06 2.06-.94-2.06-.94L8.5 2.5l-.94 2.06-2.06.94zm10 10l.94 2.06.94-2.06 2.06-.94-2.06-.94-.94-2.06-.94 2.06-2.06.94z\"/><path d=\"M17.41 7.96l-1.37-1.37c-.4-.4-.92-.59-1.43-.59-.52 0-1.04.2-1.43.59L10.3 9.45l-7.72 7.72c-.78.78-.78 2.05 0 2.83L4 21.41c.39.39.9.59 1.41.59.51 0 1.02-.2 1.41-.59l7.78-7.78 2.81-2.81c.8-.78.8-2.07 0-2.86zM5.41 20L4 18.59l7.72-7.72 1.47 1.35L5.41 20z\"/>\n",
              "  </svg>\n",
              "      </button>\n",
              "\n",
              "\n",
              "\n",
              "    <div id=\"df-2027d275-b72f-431e-ac66-52ca59c94099\">\n",
              "      <button class=\"colab-df-quickchart\" onclick=\"quickchart('df-2027d275-b72f-431e-ac66-52ca59c94099')\"\n",
              "              title=\"Suggest charts.\"\n",
              "              style=\"display:none;\">\n",
              "\n",
              "<svg xmlns=\"http://www.w3.org/2000/svg\" height=\"24px\"viewBox=\"0 0 24 24\"\n",
              "     width=\"24px\">\n",
              "    <g>\n",
              "        <path d=\"M19 3H5c-1.1 0-2 .9-2 2v14c0 1.1.9 2 2 2h14c1.1 0 2-.9 2-2V5c0-1.1-.9-2-2-2zM9 17H7v-7h2v7zm4 0h-2V7h2v10zm4 0h-2v-4h2v4z\"/>\n",
              "    </g>\n",
              "</svg>\n",
              "      </button>\n",
              "    </div>\n",
              "\n",
              "<style>\n",
              "  .colab-df-quickchart {\n",
              "    background-color: #E8F0FE;\n",
              "    border: none;\n",
              "    border-radius: 50%;\n",
              "    cursor: pointer;\n",
              "    display: none;\n",
              "    fill: #1967D2;\n",
              "    height: 32px;\n",
              "    padding: 0 0 0 0;\n",
              "    width: 32px;\n",
              "  }\n",
              "\n",
              "  .colab-df-quickchart:hover {\n",
              "    background-color: #E2EBFA;\n",
              "    box-shadow: 0px 1px 2px rgba(60, 64, 67, 0.3), 0px 1px 3px 1px rgba(60, 64, 67, 0.15);\n",
              "    fill: #174EA6;\n",
              "  }\n",
              "\n",
              "  [theme=dark] .colab-df-quickchart {\n",
              "    background-color: #3B4455;\n",
              "    fill: #D2E3FC;\n",
              "  }\n",
              "\n",
              "  [theme=dark] .colab-df-quickchart:hover {\n",
              "    background-color: #434B5C;\n",
              "    box-shadow: 0px 1px 3px 1px rgba(0, 0, 0, 0.15);\n",
              "    filter: drop-shadow(0px 1px 2px rgba(0, 0, 0, 0.3));\n",
              "    fill: #FFFFFF;\n",
              "  }\n",
              "</style>\n",
              "\n",
              "    <script>\n",
              "      async function quickchart(key) {\n",
              "        const containerElement = document.querySelector('#' + key);\n",
              "        const charts = await google.colab.kernel.invokeFunction(\n",
              "            'suggestCharts', [key], {});\n",
              "      }\n",
              "    </script>\n",
              "\n",
              "      <script>\n",
              "\n",
              "function displayQuickchartButton(domScope) {\n",
              "  let quickchartButtonEl =\n",
              "    domScope.querySelector('#df-2027d275-b72f-431e-ac66-52ca59c94099 button.colab-df-quickchart');\n",
              "  quickchartButtonEl.style.display =\n",
              "    google.colab.kernel.accessAllowed ? 'block' : 'none';\n",
              "}\n",
              "\n",
              "        displayQuickchartButton(document);\n",
              "      </script>\n",
              "      <style>\n",
              "    .colab-df-container {\n",
              "      display:flex;\n",
              "      flex-wrap:wrap;\n",
              "      gap: 12px;\n",
              "    }\n",
              "\n",
              "    .colab-df-convert {\n",
              "      background-color: #E8F0FE;\n",
              "      border: none;\n",
              "      border-radius: 50%;\n",
              "      cursor: pointer;\n",
              "      display: none;\n",
              "      fill: #1967D2;\n",
              "      height: 32px;\n",
              "      padding: 0 0 0 0;\n",
              "      width: 32px;\n",
              "    }\n",
              "\n",
              "    .colab-df-convert:hover {\n",
              "      background-color: #E2EBFA;\n",
              "      box-shadow: 0px 1px 2px rgba(60, 64, 67, 0.3), 0px 1px 3px 1px rgba(60, 64, 67, 0.15);\n",
              "      fill: #174EA6;\n",
              "    }\n",
              "\n",
              "    [theme=dark] .colab-df-convert {\n",
              "      background-color: #3B4455;\n",
              "      fill: #D2E3FC;\n",
              "    }\n",
              "\n",
              "    [theme=dark] .colab-df-convert:hover {\n",
              "      background-color: #434B5C;\n",
              "      box-shadow: 0px 1px 3px 1px rgba(0, 0, 0, 0.15);\n",
              "      filter: drop-shadow(0px 1px 2px rgba(0, 0, 0, 0.3));\n",
              "      fill: #FFFFFF;\n",
              "    }\n",
              "  </style>\n",
              "\n",
              "      <script>\n",
              "        const buttonEl =\n",
              "          document.querySelector('#df-689b5083-090b-45ed-a3c7-93e764bbcad6 button.colab-df-convert');\n",
              "        buttonEl.style.display =\n",
              "          google.colab.kernel.accessAllowed ? 'block' : 'none';\n",
              "\n",
              "        async function convertToInteractive(key) {\n",
              "          const element = document.querySelector('#df-689b5083-090b-45ed-a3c7-93e764bbcad6');\n",
              "          const dataTable =\n",
              "            await google.colab.kernel.invokeFunction('convertToInteractive',\n",
              "                                                     [key], {});\n",
              "          if (!dataTable) return;\n",
              "\n",
              "          const docLinkHtml = 'Like what you see? Visit the ' +\n",
              "            '<a target=\"_blank\" href=https://colab.research.google.com/notebooks/data_table.ipynb>data table notebook</a>'\n",
              "            + ' to learn more about interactive tables.';\n",
              "          element.innerHTML = '';\n",
              "          dataTable['output_type'] = 'display_data';\n",
              "          await google.colab.output.renderOutput(dataTable, element);\n",
              "          const docLink = document.createElement('div');\n",
              "          docLink.innerHTML = docLinkHtml;\n",
              "          element.appendChild(docLink);\n",
              "        }\n",
              "      </script>\n",
              "    </div>\n",
              "  </div>\n"
            ]
          },
          "metadata": {},
          "execution_count": 6
        }
      ]
    },
    {
      "cell_type": "code",
      "source": [],
      "metadata": {
        "id": "y2wTeut60XSL"
      },
      "execution_count": null,
      "outputs": []
    }
  ]
}