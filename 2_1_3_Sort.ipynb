{
  "nbformat": 4,
  "nbformat_minor": 0,
  "metadata": {
    "colab": {
      "provenance": [],
      "authorship_tag": "ABX9TyNHqqIHJxQc1UD3Zu+JHx3v",
      "include_colab_link": true
    },
    "kernelspec": {
      "name": "python3",
      "display_name": "Python 3"
    },
    "language_info": {
      "name": "python"
    }
  },
  "cells": [
    {
      "cell_type": "markdown",
      "metadata": {
        "id": "view-in-github",
        "colab_type": "text"
      },
      "source": [
        "<a href=\"https://colab.research.google.com/github/BoburH/Data_science/blob/main/2_1_3_Sort.ipynb\" target=\"_parent\"><img src=\"https://colab.research.google.com/assets/colab-badge.svg\" alt=\"Open In Colab\"/></a>"
      ]
    },
    {
      "cell_type": "markdown",
      "source": [
        "# Tartiblash sort"
      ],
      "metadata": {
        "id": "6QQKWWc2P4Qx"
      }
    },
    {
      "cell_type": "code",
      "execution_count": null,
      "metadata": {
        "id": "y0w15itMP2ME"
      },
      "outputs": [],
      "source": [
        "import numpy as np"
      ]
    },
    {
      "cell_type": "code",
      "source": [
        "# Sorting\n",
        "# data\n",
        "arr = np.random.rand(4)    # 4 elementli taxminiy bir o'lchamli massiv\n",
        "arr"
      ],
      "metadata": {
        "colab": {
          "base_uri": "https://localhost:8080/"
        },
        "id": "qDBHAFZwQBcN",
        "outputId": "3537d133-8779-499a-e476-36439510e002"
      },
      "execution_count": null,
      "outputs": [
        {
          "output_type": "execute_result",
          "data": {
            "text/plain": [
              "array([0.56575962, 0.11443995, 0.29677629, 0.23206144])"
            ]
          },
          "metadata": {},
          "execution_count": 3
        }
      ]
    },
    {
      "cell_type": "code",
      "source": [
        "# sort funksiyasi\n",
        "# 1 usul\n",
        "sorted_arr = np.sort(arr)      # arr massivnining tartiblangan yangi ko'rinishi\n",
        "sorted_arr"
      ],
      "metadata": {
        "colab": {
          "base_uri": "https://localhost:8080/"
        },
        "id": "0iR9vbOuQ-T7",
        "outputId": "6ccedf05-6595-461b-eccf-cc096ebdd295"
      },
      "execution_count": null,
      "outputs": [
        {
          "output_type": "execute_result",
          "data": {
            "text/plain": [
              "array([0.11443995, 0.23206144, 0.29677629, 0.56575962])"
            ]
          },
          "metadata": {},
          "execution_count": 4
        }
      ]
    },
    {
      "cell_type": "code",
      "source": [
        "# 2 usul\n",
        "arr.sort()       # arr ning tartiblangan ko'rinishi\n",
        "arr"
      ],
      "metadata": {
        "colab": {
          "base_uri": "https://localhost:8080/"
        },
        "id": "4pygIoc9RfrE",
        "outputId": "1fa2bafe-25b1-4e32-c14a-2756c73fcba3"
      },
      "execution_count": null,
      "outputs": [
        {
          "output_type": "execute_result",
          "data": {
            "text/plain": [
              "array([0.11443995, 0.23206144, 0.29677629, 0.56575962])"
            ]
          },
          "metadata": {},
          "execution_count": 6
        }
      ]
    },
    {
      "cell_type": "code",
      "source": [
        "# teskari tartiblash\n",
        "rev_arr = -np.sort(-arr)      # arr ning teskari tartiblashgan ko'rinishi\n",
        "rev_arr"
      ],
      "metadata": {
        "colab": {
          "base_uri": "https://localhost:8080/"
        },
        "id": "aLeqwud4Rsf5",
        "outputId": "ee614749-cf34-467d-93d7-c8c4e0c888f1"
      },
      "execution_count": null,
      "outputs": [
        {
          "output_type": "execute_result",
          "data": {
            "text/plain": [
              "array([0.56575962, 0.29677629, 0.23206144, 0.11443995])"
            ]
          },
          "metadata": {},
          "execution_count": 8
        }
      ]
    },
    {
      "cell_type": "code",
      "source": [
        "# 2 D array (massiv)\n",
        "arr2d = np.random.randn(2,4)     # (2,4) o'lchamli massiv\n",
        "arr2d"
      ],
      "metadata": {
        "colab": {
          "base_uri": "https://localhost:8080/"
        },
        "id": "nU4X3qW-R9TI",
        "outputId": "eee6bcac-1de5-4af3-906f-ed9104b7ccbb"
      },
      "execution_count": null,
      "outputs": [
        {
          "output_type": "execute_result",
          "data": {
            "text/plain": [
              "array([[ 0.63952347, -1.06663673, -1.57526584,  1.31293521],\n",
              "       [-0.02719015,  0.81166768, -0.18168961,  1.4689049 ]])"
            ]
          },
          "metadata": {},
          "execution_count": 9
        }
      ]
    },
    {
      "cell_type": "code",
      "source": [
        "# axis = 1 qator\n",
        "row_srt =np.sort(arr2d, axis=1)  # elementlarni qatorlar bo'yicha tartiblaydi\n",
        "row_srt"
      ],
      "metadata": {
        "colab": {
          "base_uri": "https://localhost:8080/"
        },
        "id": "kgz5L_nCSePR",
        "outputId": "9a471e85-6ecb-415f-d416-efae99284df6"
      },
      "execution_count": null,
      "outputs": [
        {
          "output_type": "execute_result",
          "data": {
            "text/plain": [
              "array([[-1.57526584, -1.06663673,  0.63952347,  1.31293521],\n",
              "       [-0.18168961, -0.02719015,  0.81166768,  1.4689049 ]])"
            ]
          },
          "metadata": {},
          "execution_count": 11
        }
      ]
    },
    {
      "cell_type": "code",
      "source": [
        "# axis = 0 ustun\n",
        "col_str = np.sort(arr2d, axis=0)     # ustun bo'yicha tartiblaydi\n",
        "col_str"
      ],
      "metadata": {
        "id": "wAkaWYqjTWKU",
        "colab": {
          "base_uri": "https://localhost:8080/"
        },
        "outputId": "1b7452b6-cf66-4ee1-af71-34c2a86e8e5d"
      },
      "execution_count": null,
      "outputs": [
        {
          "output_type": "execute_result",
          "data": {
            "text/plain": [
              "array([[-0.02719015, -1.06663673, -1.57526584,  1.31293521],\n",
              "       [ 0.63952347,  0.81166768, -0.18168961,  1.4689049 ]])"
            ]
          },
          "metadata": {},
          "execution_count": 13
        }
      ]
    },
    {
      "cell_type": "code",
      "source": [],
      "metadata": {
        "id": "Kay7X9rNUL-K"
      },
      "execution_count": null,
      "outputs": []
    }
  ]
}