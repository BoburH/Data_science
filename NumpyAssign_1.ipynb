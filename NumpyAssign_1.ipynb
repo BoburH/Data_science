{
  "nbformat": 4,
  "nbformat_minor": 0,
  "metadata": {
    "colab": {
      "provenance": [],
      "include_colab_link": true
    },
    "kernelspec": {
      "name": "python3",
      "display_name": "Python 3"
    },
    "language_info": {
      "name": "python"
    }
  },
  "cells": [
    {
      "cell_type": "markdown",
      "metadata": {
        "id": "view-in-github",
        "colab_type": "text"
      },
      "source": [
        "<a href=\"https://colab.research.google.com/github/BoburH/Data_science/blob/main/NumpyAssign_1.ipynb\" target=\"_parent\"><img src=\"https://colab.research.google.com/assets/colab-badge.svg\" alt=\"Open In Colab\"/></a>"
      ]
    },
    {
      "cell_type": "markdown",
      "source": [
        "# ![Imgur](https://i.imgur.com/5pXzCIu.png)\n",
        "\n",
        "# **DATA SCIENCE VA SUN'IY INTELLEKT PRAKTIKUM**\n",
        "\n",
        "## Ma'lumotlar tahlili. Numpy kutubxonasi.\n",
        "\n",
        "# **1-AMALIY VAZIFA**\n",
        "\n",
        "## N-o'lchamli massivlar yaratish"
      ],
      "metadata": {
        "id": "7GdSfnw5Wr8W"
      }
    },
    {
      "cell_type": "code",
      "execution_count": 1,
      "metadata": {
        "id": "yFwcefXYWqgP"
      },
      "outputs": [],
      "source": [
        "# Numpy kutubxonasini chaqirib olish\n",
        "import numpy as np"
      ]
    },
    {
      "cell_type": "markdown",
      "source": [
        "### Masala(1): 1-o'lchamli massivlar yaratish\n",
        "\n",
        "**Masala sharti :** Elementlari ixtiyoriy  *n* ta  (*n* > 0, butun son) bo'lgan 1-o'lchamli massiv (array) yaratuvchi funksiyani davom ettiring.\n",
        "\n",
        "**Yordam :**  `array` yoki `random` funksiyasidan foydalaning.\n",
        "\n",
        "**Funksiya yaratilishi haqida darslik:** [bog'lanma](https://www.youtube.com/watch?v=_aDyBPYAeyU&list=PLwsopmzfbOn9Lw5D7a26THpBDgAma1Sus&index=22)\n"
      ],
      "metadata": {
        "id": "RZGz3Nb1ZYfN"
      }
    },
    {
      "cell_type": "code",
      "source": [
        "# JAVOBNI SHU YERGA YOZING\n",
        "n = int(input(\"Massivlar soni nechta bo'lishini kiriting: \"))\n",
        "def one_dim(n):\n",
        "  \"\"\" n ta elementdan tashkil topgan 1-o'lchamli massiv \"\"\"\n",
        "  listn = list(range(n))\n",
        "  arrn = np.array(listn)\n",
        "  return arrn\n",
        "\n",
        "one_dim(n)\n"
      ],
      "metadata": {
        "id": "0IUnLI8_Yhlw",
        "outputId": "686bec6b-8b7b-40db-c943-5e9153f66921",
        "colab": {
          "base_uri": "https://localhost:8080/"
        }
      },
      "execution_count": 11,
      "outputs": [
        {
          "name": "stdout",
          "output_type": "stream",
          "text": [
            "Massivlar soni nechta bo'lishini kiriting: 20\n"
          ]
        },
        {
          "output_type": "execute_result",
          "data": {
            "text/plain": [
              "array([ 0,  1,  2,  3,  4,  5,  6,  7,  8,  9, 10, 11, 12, 13, 14, 15, 16,\n",
              "       17, 18, 19])"
            ]
          },
          "metadata": {},
          "execution_count": 11
        }
      ]
    },
    {
      "cell_type": "code",
      "source": [
        "#@title Tekshirish (natijada hech qanday xatolik yuz bermasligi kerak)\n",
        "\"\"\"Check that function returns the correct output for several inputs\"\"\"\n",
        "for i in range(1, 10):\n",
        "  assert len(one_dim(i)) == i, f\"n elementlar soni, funksiyada noto'g'ri qo'llanilgan\" # n elementlar soni\n",
        "  arr = one_dim(i) # massiv\n",
        "  assert arr.ndim == 1, f\"1-o'lchamli massiv aniqlanmadi\"# massiv o'lchami\n",
        "  assert type(arr) == np.ndarray, f\"massiv aniqlanmadi\" #numpy array"
      ],
      "metadata": {
        "cellView": "form",
        "id": "5-G7c8j-cIpp"
      },
      "execution_count": 12,
      "outputs": []
    },
    {
      "cell_type": "markdown",
      "source": [
        "_____"
      ],
      "metadata": {
        "id": "NxKR_fW0gkkt"
      }
    },
    {
      "cell_type": "markdown",
      "source": [
        "### Masala(2) 2-o'lchamli massivlar yaratish\n",
        "\n",
        "**Masala :** Shakli `shape(r, c)` bo'lgan 2-o'lchamli massiv (array) yaratuvchi funksiyani davom ettiring.  \n",
        "\n",
        "**Yordam :** numpy kutubxonasida massivlar yaratuvchi funksiyalarining istalganidan foydlanishingiz mumkin.\n"
      ],
      "metadata": {
        "id": "qlgbXHwCggjr"
      }
    },
    {
      "cell_type": "code",
      "source": [
        "# JAVOBNI SHU YERGA YOZING\n",
        "r = int(input(\"Qatorlar sonini kiriting: \"))\n",
        "c = int(input(\"Ustunlar sonini kiriting: \"))\n",
        "m = int(input(\"Maksimum son nechadan oshmasligi kerak: \"))\n",
        "def two_dim(r, c):\n",
        "    \"\"\" r ta qator, c ta ustundan tashkil topgan 2-o'lchamli massiv \"\"\"\n",
        "    arrrc = np.random.randint(m, size = (r, c))\n",
        "    return arrrc\n",
        "\n",
        "two_dim(r,c)\n"
      ],
      "metadata": {
        "id": "Cj6xVSfjdmvj",
        "colab": {
          "base_uri": "https://localhost:8080/"
        },
        "outputId": "b379525e-cae0-4148-b9ec-dacecdd8cb4a"
      },
      "execution_count": 16,
      "outputs": [
        {
          "name": "stdout",
          "output_type": "stream",
          "text": [
            "Qatorlar sonini kiriting: 5\n",
            "Ustunlar sonini kiriting: 10\n",
            "Maksimum son nechadan oshmasligi kerak: 100000\n"
          ]
        },
        {
          "output_type": "execute_result",
          "data": {
            "text/plain": [
              "array([[54498, 75785, 67675, 72455, 18917, 22735, 41604, 12178, 59119,\n",
              "        83427],\n",
              "       [94898, 56084, 52969, 39622, 60749, 87610, 59198, 64289, 39946,\n",
              "         6443],\n",
              "       [57892,  8092, 62352, 53900, 36775, 82580, 30700, 29381, 89006,\n",
              "        55114],\n",
              "       [13626, 95226, 39033, 56915, 53397, 29728, 70955, 15308, 58708,\n",
              "        66244],\n",
              "       [99170, 16847, 81970, 79836, 62913, 53817, 90943, 85443, 13147,\n",
              "         8273]])"
            ]
          },
          "metadata": {},
          "execution_count": 16
        }
      ]
    },
    {
      "cell_type": "markdown",
      "source": [
        "### Yuqoridagi yozgan funksiyangizni tekshirish uchun, quyidagi cellni yuriting."
      ],
      "metadata": {
        "id": "x47iG7oZh9WL"
      }
    },
    {
      "cell_type": "code",
      "source": [
        "#@title Tekshirish (natijada hech qanday xatolik yuz bermasligi kerak)\n",
        "\"\"\"Check that function returns the correct output for several inputs\"\"\"\n",
        "arr = two_dim(3, 2) # massiv\n",
        "assert arr.shape == (3, 2), f\"funksiyada, o'lchamlar noto'g'ri qo'llanilgan\" # shape\n",
        "assert arr.ndim == 2, f\"2-o'lchamli massiv aniqlanmadi\" # massiv o'lchami\n",
        "assert type(arr) == np.ndarray, f\"massiv aniqlanmadi\"# #numpy array"
      ],
      "metadata": {
        "cellView": "form",
        "id": "kGYbFv7cggMs"
      },
      "execution_count": 17,
      "outputs": []
    },
    {
      "cell_type": "code",
      "source": [],
      "metadata": {
        "id": "Owrqfo1ZOG4g"
      },
      "execution_count": null,
      "outputs": []
    }
  ]
}