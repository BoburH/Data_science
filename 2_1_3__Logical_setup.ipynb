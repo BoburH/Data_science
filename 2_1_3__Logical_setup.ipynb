{
  "nbformat": 4,
  "nbformat_minor": 0,
  "metadata": {
    "colab": {
      "provenance": [],
      "authorship_tag": "ABX9TyM6/FxSlyFEgk7pDEML9zT8",
      "include_colab_link": true
    },
    "kernelspec": {
      "name": "python3",
      "display_name": "Python 3"
    },
    "language_info": {
      "name": "python"
    }
  },
  "cells": [
    {
      "cell_type": "markdown",
      "metadata": {
        "id": "view-in-github",
        "colab_type": "text"
      },
      "source": [
        "<a href=\"https://colab.research.google.com/github/BoburH/Data_science/blob/main/2_1_3__Logical_setup.ipynb\" target=\"_parent\"><img src=\"https://colab.research.google.com/assets/colab-badge.svg\" alt=\"Open In Colab\"/></a>"
      ]
    },
    {
      "cell_type": "markdown",
      "source": [
        "# Mantiqiy shart operatorlarini massiv operatorlari sifatida qo'llash"
      ],
      "metadata": {
        "id": "8uSkjMz4lDmW"
      }
    },
    {
      "cell_type": "code",
      "execution_count": 1,
      "metadata": {
        "id": "1dcNQYOBkzwl"
      },
      "outputs": [],
      "source": [
        "import numpy as np"
      ]
    },
    {
      "cell_type": "markdown",
      "source": [
        "# *where* operatori yordamida amalga oshiriladi"
      ],
      "metadata": {
        "id": "mn1kolmFmE0c"
      }
    },
    {
      "cell_type": "code",
      "source": [
        "# Massivlar\n",
        "xarr = np.array([1.1, 1.2, 1.3, 1.4, 1.5]) # xarr\n",
        "yarr = np.array([2.1, 2.2, 2.3, 2.4, 2.5]) # yarr"
      ],
      "metadata": {
        "id": "gM1y8brKlMFp"
      },
      "execution_count": 5,
      "outputs": []
    },
    {
      "cell_type": "code",
      "source": [
        "# Shart\n",
        "cond = np.array([True, False, True, True, False])"
      ],
      "metadata": {
        "id": "3xoldfkgmbN3"
      },
      "execution_count": 6,
      "outputs": []
    },
    {
      "cell_type": "code",
      "source": [
        "# where\n",
        "result = np.where(cond, xarr, yarr)     # cond True bo'lganda xarr elementini oladi, aks holda yarr elementi olinadi\n",
        "result"
      ],
      "metadata": {
        "colab": {
          "base_uri": "https://localhost:8080/"
        },
        "id": "tmNsA368me84",
        "outputId": "12f23301-121f-4967-cd33-ff675f54fc69"
      },
      "execution_count": 7,
      "outputs": [
        {
          "output_type": "execute_result",
          "data": {
            "text/plain": [
              "array([1.1, 2.2, 1.3, 1.4, 2.5])"
            ]
          },
          "metadata": {},
          "execution_count": 7
        }
      ]
    },
    {
      "cell_type": "code",
      "source": [
        "arr = np.random.randn(4,4)\n",
        "arr"
      ],
      "metadata": {
        "colab": {
          "base_uri": "https://localhost:8080/"
        },
        "id": "zfZVpv_dnHjU",
        "outputId": "758d4977-6020-48e6-c653-fcb0af6937f9"
      },
      "execution_count": 10,
      "outputs": [
        {
          "output_type": "execute_result",
          "data": {
            "text/plain": [
              "array([[-0.72243984,  0.28754614, -0.40713625,  0.93150985],\n",
              "       [ 0.36679249, -0.2335454 , -0.85131173, -0.79130154],\n",
              "       [-0.37562969,  0.35225047, -0.37522562, -0.37857321],\n",
              "       [ 1.03057744, -1.62500058,  1.43849029,  0.30144585]])"
            ]
          },
          "metadata": {},
          "execution_count": 10
        }
      ]
    },
    {
      "cell_type": "code",
      "source": [
        "result = np.where(arr<0, -2, 2)\n",
        "result"
      ],
      "metadata": {
        "colab": {
          "base_uri": "https://localhost:8080/"
        },
        "id": "k45QpWppnN9p",
        "outputId": "83599156-d5e6-46c1-c0bb-a181309ada1b"
      },
      "execution_count": 12,
      "outputs": [
        {
          "output_type": "execute_result",
          "data": {
            "text/plain": [
              "array([[-2,  2, -2,  2],\n",
              "       [ 2, -2, -2, -2],\n",
              "       [-2,  2, -2, -2],\n",
              "       [ 2, -2,  2,  2]])"
            ]
          },
          "metadata": {},
          "execution_count": 12
        }
      ]
    },
    {
      "cell_type": "code",
      "source": [],
      "metadata": {
        "id": "baXBY0ownchC"
      },
      "execution_count": null,
      "outputs": []
    }
  ]
}